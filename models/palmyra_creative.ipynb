{
 "cells": [
  {
   "metadata": {},
   "cell_type": "markdown",
   "source": [
    "## Overview\n",
    "\n",
    "Palmyra Creative is Writer’s purpose-built language model, engineered to elevate creative thinking and writing across diverse professional contexts. With capabilities that amplify originality and adaptability, it caters to industries and teams where innovation drives success. Available via API, No-code tools, the Writer Framework, and as an NVIDIA NIM microservice, Palmyra Creative is tailored to inspire bold ideas and solutions.\n",
    "\n",
    "### Details\n",
    "* Text input & output\n",
    "* 128k context length\n",
    "\n",
    "### Availability\n",
    "* [No-code](https://dev.writer.com/no-code/introduction)\n",
    "* [Writer Framework](https://dev.writer.com/framework/introduction)\n",
    "* [API](https://dev.writer.com/api-guides/introduction)\n",
    "\n",
    "### Pricing\n",
    "For pricing information visit a [pricing page](https://dev.writer.com/home/pricing)."
   ],
   "id": "b6f36d77c74471de"
  },
  {
   "metadata": {},
   "cell_type": "markdown",
   "source": "## Use cases & capabilities",
   "id": "4a83f6c66f4ab2d1"
  },
  {
   "metadata": {},
   "cell_type": "markdown",
   "source": "> You cat use Palmyra creative capabilities via [Pyton SDK](https://dev.writer.com/api-guides/sdks). To do it simpy install Writer SDK via pip:",
   "id": "5f1089952a284da5"
  },
  {
   "metadata": {},
   "cell_type": "code",
   "source": "%pip install -qU writer-sdk",
   "id": "3b49e4a7df119967",
   "outputs": [],
   "execution_count": null
  },
  {
   "metadata": {},
   "cell_type": "markdown",
   "source": [
    "> Then you have to head to our [AI Studio](https://writer.com/product/ai-studio/), generate API key, set it as ENV `WRITER_API_KEY` variable, and open to you Palmyra ecosystem via chat handler or text completions.\n",
    "\n",
    "### Imaginative brainstorming\n",
    "Palmyra Creative generates a wide range of unique, innovative ideas tailored to specific challenges. Whether brainstorming marketing campaigns or conceptualizing new products, it empowers users to think beyond the obvious."
   ],
   "id": "bcc50cedc16f2e15"
  },
  {
   "metadata": {},
   "cell_type": "code",
   "source": [
    "import getpass\n",
    "import os\n",
    "from writerai import Writer\n",
    "\n",
    "if not os.getenv(\"WRITER_API_KEY\"):\n",
    "    os.environ[\"WRITER_API_KEY\"] = getpass.getpass(\"Enter your Writer API key: \")\n",
    "\n",
    "client = Writer()\n",
    "\n",
    "prompt = \"\"\"\n",
    "Design a sustainable and eco-friendly line of outdoor gear for the next generation of environmentally conscious hikers and campers.\n",
    "Products must be made from at least 80% recycled or biodegradable materials. Products must be priced competitively with existing products in the market ($50-$200).\n",
    "Generate 5-7 unique product ideas, including.\n",
    "Consider incorporating technology, such as integrated solar panels, GPS tracking, or other features that enhance the outdoor experience.\n",
    "\"\"\"\n",
    "\n",
    "client.completions.create(model=\"palmyra-creative\", prompt=prompt)"
   ],
   "id": "e398124aac977111",
   "outputs": [],
   "execution_count": null
  },
  {
   "metadata": {},
   "cell_type": "markdown",
   "source": [
    "### Enhanced storytelling\n",
    "The model transforms basic content into engaging, impactful narratives. From crafting compelling copy to simplifying technical explanations, Palmyra Creative ensures every story resonates with its audience."
   ],
   "id": "96987be3217f1754"
  },
  {
   "metadata": {},
   "cell_type": "code",
   "source": [
    "prompt=\"\"\"\n",
    "Introduce the latest innovation in road cycling. Here is a beginning of an abstract continue it:\n",
    "The \"AeroCore\" wheelset, revolutionizing the way you cut through the air with cutting-edge carbon technology.\n",
    "Featuring an advanced design that combines aero-optimized rim profiles with a unique carbon fiber layup,\n",
    "the AeroCore promises to shave off precious seconds from your ride times.\n",
    "\"\"\"\n",
    "\n",
    "client.completions.create(model=\"palmyra-creative\", prompt=prompt)"
   ],
   "id": "de25e9c8f7e96ff8",
   "outputs": [],
   "execution_count": null
  },
  {
   "metadata": {},
   "cell_type": "markdown",
   "source": "## Best practices in prompting",
   "id": "37dcfe9be66cf765"
  },
  {
   "metadata": {},
   "cell_type": "markdown",
   "source": "",
   "id": "8580c263331cb344"
  }
 ],
 "metadata": {
  "kernelspec": {
   "display_name": "Python 3",
   "language": "python",
   "name": "python3"
  },
  "language_info": {
   "codemirror_mode": {
    "name": "ipython",
    "version": 2
   },
   "file_extension": ".py",
   "mimetype": "text/x-python",
   "name": "python",
   "nbconvert_exporter": "python",
   "pygments_lexer": "ipython2",
   "version": "2.7.6"
  }
 },
 "nbformat": 4,
 "nbformat_minor": 5
}
