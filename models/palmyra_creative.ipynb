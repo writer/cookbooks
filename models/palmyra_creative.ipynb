{
 "cells": [
  {
   "cell_type": "markdown",
   "id": "b6f36d77c74471de",
   "metadata": {},
   "source": [
    "## Overview\n",
    "\n",
    "[Palmyra Creative](https://writer.com/llms/palmyra-creative/) is Writer’s LLM engineered to elevate creative thinking and writing across diverse professional contexts. You can use it for a wide range of creative tasks, from brainstorming to crafting compelling narratives.\n",
    "\n",
    "This cookbook demonstrates how to use Palmyra Creative with the [text generation](https://dev.writer.com/api-guides/api-reference/completion-api/text-generation) and [chat completions](https://dev.writer.com/api-guides/api-reference/completion-api/chat-completion) APIs.\n",
    "\n",
    "## Prerequisites\n",
    "\n",
    "- An [AI Studio](https://aap.writer.com) account. Sign up for a [free account here](https://aap.writer.com/register).\n",
    "- A Writer API key. See how to [generate an API key here](https://dev.writer.com/api-guides/quickstart).\n",
    "\n",
    "## Setup\n",
    "\n",
    "First, install the Writer SDK:"
   ]
  },
  {
   "cell_type": "code",
   "execution_count": null,
   "id": "6a01b536",
   "metadata": {},
   "outputs": [],
   "source": [
    "pip install -qU writer-sdk"
   ]
  },
  {
   "cell_type": "markdown",
   "id": "47fa6152",
   "metadata": {},
   "source": [
    "\n",
    "Next, set the `WRITER_API_KEY` environment variable. We recommend setting it in a `.env` file in the root of your project, but this tutorial will set it in an environment variable if you don't have a `.env` file."
   ]
  },
  {
   "cell_type": "code",
   "execution_count": null,
   "id": "e71e6318",
   "metadata": {},
   "outputs": [],
   "source": [
    "import getpass\n",
    "import os\n",
    "from writerai import Writer\n",
    "\n",
    "if not os.getenv(\"WRITER_API_KEY\"):\n",
    "    os.environ[\"WRITER_API_KEY\"] = getpass.getpass(\"Enter your Writer API key: \")\n",
    "\n",
    "client = Writer()"
   ]
  },
  {
   "cell_type": "markdown",
   "id": "ed126e74",
   "metadata": {},
   "source": [
    "## Usage\n",
    "\n",
    "### Imaginative brainstorming\n",
    "\n",
    "The following example demonstrates how to use Palmyra Creative for brainstorming ideas within specific constraints. It uses the [text generation](https://dev.writer.com/api-guides/api-reference/completion-api/text-generation) API and streams the response."
   ]
  },
  {
   "cell_type": "code",
   "execution_count": null,
   "id": "e398124aac977111",
   "metadata": {},
   "outputs": [],
   "source": [
    "prompt = \"\"\"\n",
    "Design a sustainable and eco-friendly line of outdoor gear for the next generation of environmentally conscious hikers and campers.\n",
    "Products must be made from at least 80% recycled or biodegradable materials. Products must be priced competitively with existing products in the market ($50-$200).\n",
    "Generate 5-7 unique product ideas.\n",
    "Consider incorporating technology, such as integrated solar panels, GPS tracking, or other features that enhance the outdoor experience.\n",
    "\"\"\"\n",
    "\n",
    "response = client.completions.create(model=\"palmyra-creative\", prompt=prompt, stream=True)\n",
    "\n",
    "for chunk in response:\n",
    "    print(chunk.value, end=\"\", flush=True)"
   ]
  },
  {
   "cell_type": "markdown",
   "id": "96987be3217f1754",
   "metadata": {},
   "source": [
    "### Enhanced storytelling\n",
    "\n",
    "The next example demonstrates how to use Palmyra Creative for storytelling using the text generation API."
   ]
  },
  {
   "cell_type": "code",
   "execution_count": null,
   "id": "de25e9c8f7e96ff8",
   "metadata": {},
   "outputs": [],
   "source": [
    "prompt = \"\"\"\n",
    "Introduce the latest innovation in road cycling. Here is a beginning of an abstract continue it:\n",
    "The \"AeroCore\" wheelset, revolutionizing the way you cut through the air with cutting-edge carbon technology.\n",
    "Featuring an advanced design that combines aero-optimized rim profiles with a unique carbon fiber layup,\n",
    "the AeroCore promises to shave off precious seconds from your ride times.\n",
    "\"\"\"\n",
    "\n",
    "response = client.completions.create(model=\"palmyra-creative\", prompt=prompt, stream=True)\n",
    "\n",
    "for chunk in response:\n",
    "    print(chunk.value, end=\"\", flush=True)"
   ]
  },
  {
   "cell_type": "markdown",
   "id": "12cb392e",
   "metadata": {},
   "source": [
    "### Use Palmyra Creative in a chat\n",
    "\n",
    "The following example demonstrates how to use Palmyra Creative in a chat with a general Palmyra LLM. It uses the [chat completions](https://dev.writer.com/api-guides/model-delegation) API and passes the `palmyra-creative` model as a tool that the LLM can use when a user asks for creative ideas.\n",
    "\n",
    "First, define the tool that will use Palmyra Creative:\n"
   ]
  },
  {
   "cell_type": "code",
   "execution_count": null,
   "id": "aa631de1",
   "metadata": {},
   "outputs": [],
   "source": [
    "tools = [{\n",
    "    \"type\": \"llm\",\n",
    "    \"function\": {\n",
    "        \"description\": \"A function that will invoke the llm identified by the given model, specialized in creative thinking and writing. Any user request asking for creative ideas or brainstorming should use this tool.\",\n",
    "        \"model\": \"palmyra-creative\"\n",
    "    }\n",
    "}]"
   ]
  },
  {
   "cell_type": "markdown",
   "id": "53ab40f4",
   "metadata": {},
   "source": [
    "Then, pass the `tools` array when creating a chat completion. The example below creates a hypothetical chat with a user who asks for creative ideas for a new product. It streams the response and also displays the value from the `llm_data` field of the response, which shows the tool call used to generate the response."
   ]
  },
  {
   "cell_type": "code",
   "execution_count": null,
   "id": "75fa38e7",
   "metadata": {},
   "outputs": [],
   "source": [
    "messages = [{\"role\": \"user\", \"content\": \"Help generate five ideas for the name of a new SMS-based product that helps people learn to code via text messages.\"}]\n",
    "\n",
    "response = client.chat.chat(\n",
    "    model=\"palmyra-x-004\", \n",
    "    messages=messages, \n",
    "    tools=tools,  # The tools array defined earlier.\n",
    "    tool_choice=\"auto\",\n",
    "    stream=True,\n",
    "    max_tokens=1064\n",
    ")\n",
    "\n",
    "llm_data = None\n",
    "for chunk in response:\n",
    "    if chunk.choices[0].delta.llm_data is not None:\n",
    "        llm_data = chunk.choices[0].delta.llm_data\n",
    "    if chunk.choices[0].delta.content is not None:\n",
    "        print(chunk.choices[0].delta.content, end=\"\", flush=True)\n",
    "\n",
    "print(\"\\nLLM data:\", llm_data)\n"
   ]
  },
  {
   "cell_type": "code",
   "execution_count": null,
   "id": "692445d9-9867-4659-b475-9f81f2b43441",
   "metadata": {},
   "outputs": [],
   "source": []
  }
 ],
 "metadata": {
  "kernelspec": {
   "display_name": "Python 3 (ipykernel)",
   "language": "python",
   "name": "python3"
  },
  "language_info": {
   "codemirror_mode": {
    "name": "ipython",
    "version": 3
   },
   "file_extension": ".py",
   "mimetype": "text/x-python",
   "name": "python",
   "nbconvert_exporter": "python",
   "pygments_lexer": "ipython3",
   "version": "3.13.2"
  }
 },
 "nbformat": 4,
 "nbformat_minor": 5
}
