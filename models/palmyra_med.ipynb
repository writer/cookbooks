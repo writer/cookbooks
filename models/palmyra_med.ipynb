{
 "cells": [
  {
   "metadata": {},
   "cell_type": "markdown",
   "source": [
    "## Overview\n",
    "\n",
    "Writer’s specialized healthcare language model, Palmyra Med, is designed to support clinical and administrative workflows with high accuracy in medical terminology, coding, and analysis. With advanced capabilities for medical coding standards like RxNorm, ICD-10-CM, and SNOMED CT, it’s ideal for applications in medical analysis, treatment planning, clinical trials, and more.\n",
    "\n",
    "### Details\n",
    "* Text input & output\n",
    "* 128k context length\n",
    "\n",
    "### Availability\n",
    "* [No-code](https://dev.writer.com/no-code/introduction)\n",
    "* [Writer Framework](https://dev.writer.com/framework/introduction)\n",
    "* [API](https://dev.writer.com/api-guides/introduction)\n",
    "\n",
    "### Pricing\n",
    "For pricing information visit a [pricing page](https://dev.writer.com/home/pricing)."
   ],
   "id": "b6f36d77c74471de"
  },
  {
   "metadata": {},
   "cell_type": "markdown",
   "source": "## Use cases & capabilities",
   "id": "4a83f6c66f4ab2d1"
  },
  {
   "metadata": {},
   "cell_type": "markdown",
   "source": "> You cat use Palmyra med capabilities via [Pyton SDK](https://dev.writer.com/api-guides/sdks). To do it simpy install Writer SDK via pip:",
   "id": "5f1089952a284da5"
  },
  {
   "metadata": {},
   "cell_type": "code",
   "outputs": [],
   "execution_count": null,
   "source": "%pip install -qU writer-sdk",
   "id": "3b49e4a7df119967"
  },
  {
   "metadata": {},
   "cell_type": "markdown",
   "source": [
    "> Then you have to head to our [AI Studio](https://writer.com/product/ai-studio/), generate API key, set it as ENV `WRITER_API_KEY` variable, and open to you Palmyra ecosystem via chat handler or text completions as following:\n",
    "\n",
    "### Clinical decision support\n",
    "With healthcare-specific knowledge, Palmyra Med can assist in diagnostics and treatment planning, helping healthcare providers make informed, data-backed decisions."
   ],
   "id": "a18dfa7b5a299892"
  },
  {
   "metadata": {},
   "cell_type": "code",
   "outputs": [],
   "execution_count": null,
   "source": [
    "import getpass\n",
    "import os\n",
    "from writerai import Writer\n",
    "\n",
    "if not os.getenv(\"WRITER_API_KEY\"):\n",
    "    os.environ[\"WRITER_API_KEY\"] = getpass.getpass(\"Enter your Writer API key: \")\n",
    "\n",
    "client = Writer()\n",
    "\n",
    "prompt=\"\"\"Here is a list of symptoms: persistent, non-progressive muscle weakness, proximal limb-girdle weakness, no loss of reflexes, no sensory disturbances, no eye muscle\n",
    "involvement, ptosis (droopy eyelids) and diplopia (double vision) rare but can occur. Analyze this symptoms, provide probabilities of illnesses that the patient may be sick.\n",
    "Justify your decisions, provide arguments. And make a final conclusion with diagnoses you think ith right.\"\"\"\n",
    "\n",
    "client.completions.create(model=\"palmyra-med\", prompt=prompt)"
   ],
   "id": "e1b25d56d1dc1f83"
  },
  {
   "metadata": {},
   "cell_type": "markdown",
   "source": [
    "### Document summarization and reporting\n",
    "Optimized for summarizing lengthy medical records and generating concise reports, Palmyra Med enhances efficiency in patient documentation and case review."
   ],
   "id": "96987be3217f1754"
  },
  {
   "metadata": {},
   "cell_type": "code",
   "outputs": [],
   "execution_count": null,
   "source": [
    "prompt = \"\"\"\n",
    "Summarize that medical report, pay attention on risks which the user is exposed, give any advises to patient, provide output in .md format:\n",
    "\n",
    "Medical Report on John Doe and Symptoms Dear John, I hope this communication finds you well. I am writing this detailed medical report in accordance with your request to\n",
    "describe the medical standing of an individual identified as John Doe who has been experiencing various symptoms. Please note that this is a simulated scenario, and the\n",
    "information presented does not relate to a real medical condition. Based on the simulation, John Doe is a 35-year-old Caucasian male with a height of 5\\'8\" (173 cm) and weight\n",
    "190 pounds (86 kg). He has been reporting a series of symptoms that include generalized fatigue, shortness of breath, recurring headaches, frequent urination, and pain in the\n",
    "lower abdomen. The individual mentions that these symptoms have been present for approximately three months, with an incremental increase in severity over the last six weeks.\n",
    "General Physical Examination: The physical examination of the individual revealed that he has mild scleral icterus, a yellowish discoloration of the whites of the eyes. His\n",
    "pulse rate is 105 beats/min, mildly higher than the average normal rate of 60-100 beats/min. His blood pressure was measured to be 144/85 mm. Hg., indicating a mild case of\n",
    "hypertension. He has a low-grade fever of 99.5F (37.6C), which is slightly above the normal temperature. Upon palpation of the abdominal area, there was localized tenderness in\n",
    "the left lower quadrant. Symptom Analysis: The combination of symptoms as presented by the individual requires a thorough analysis to determine any correlations or underlying\n",
    "pathophysiological mechanisms. Generalized fatigue could be attributed to both mental and physical exhaustion due to the pressures of daily life. However, when fatigues is\n",
    "persistent and does not improve with rest, it could be a manifestation of an underlying medical condition. In this case, it is prudent to rule out anemia, depression, thyroid\n",
    "disorders, and sleep disorders, since they could cause persistent fatigue. Shortness of breath, also known as dyspnea, is symptom critical for evaluation in the context of\n",
    "other symptoms presented. Dyspnea, when accompanied by other symptoms in a 35-year-old individual, could be indicative of pulmonary or cardiac disorders. The occurrence of\n",
    "localized abdominal pain could be due to a gastrointestinal inflammation or obstruction. The presence of frequent urination suggests bladder or urethral irritation, possibly as\n",
    " a result of a urinary tract infection (UTI). The presence of headaches implies a possible cerebral origin and may be linked to systemic or neurological causes. Medical\n",
    "History:In taking a medical history, it is crucial to understand any pre-existing medical conditions that the individual has experienced. John Doe indicates that he has had a\n",
    "previous diagnosis of asthma as a child and still uses prescribed Ventolin inhalers for periodic flare-ups. However, there are no other significant medical conditions that he\n",
    "has experienced. The individual does not use tobacco products, drinks two to three servings of alcohol on a weekly basis, and is physically active by engaging in recreational\n",
    "sports. Diagnostic Tests: To ascertain the exact cause of his symptoms, the following diagnostic tests have been ordered:1. Complete Blood Count (CBC) with Differential: This\n",
    "would help assess if the individual is anemic and provide counts of different leukocytes, which can be indicative of inflammation or infection.2. Basic Metabolic Panel (BMP):\n",
    "This set of tests is crucial in evaluating metabolic functions, including electrolyte levels, renal (kidney) function, and liver function. It, therefore, provides valuable\n",
    "information for diagnosis of electrolyte imbalances or organ damage.3. Urine Analysis (UA): This test is critical in diagnosing any infection affecting the urinary tract. It\n",
    "also provides an excellent way of assessing glucose levels in urine, which could suggest abnormal pancreatic function.4. Chest Radiograph: Given the symptom of shortness of\n",
    "breath, a chest radiograph is necessary to evaluate any pathology in the lungs or heart that could be causing this symptom.5. Resting 12-Lead Electrocardiogram (ECG): An ECG\n",
    "evaluation is required in view of the slightly elevated blood pressure. It will assist in determining whether the cause of the hypertension is cardiac-related. Preliminary\n",
    "Diagnosis:Based on the information gathered, it is likely that John Doe has multiple health conditions that warrant further investigation to isolate each condition. It is\n",
    "possible that the individual is experiencing asthma exacerbation, which could be causing the breathing difficulties. However, the presence of generalized fatigue, recurrent\n",
    "headaches, and abdominal pain requires further examination to exclude gastrointestinal, pancreatic, or liver pathologies. Treatment Plan:The initial treatment plan for John Doe\n",
    " will require a multidisciplinary approach. It will comprise of medical management for the symptoms presented and lifestyle changes that could alleviate symptoms. An immediate\n",
    "step involves the use of an inhaler twice daily to manage his asthma. To alleviate the abdominal pain and discomfort, a proton pump inhibitor, such as omeprazole 20 mg bid, is\n",
    "prescribed. Given the presence of shortness of breath, the use of bronchodilators is also recommended to open up the airways in the event of an asthma flare-up. To address the\n",
    "symptom of recurrent headaches, it is essential to maintain a consistent sleep pattern, use stress-reduction techniques, and avoid overexertion. Acetaminophen 500 mg bid may be\n",
    " used for immediate relief of the headaches. Additionally, lifestyle changes such as dietary modifications, frequent hydration, and reduced alcohol intake are recommended. A\n",
    "follow-up consultation will be scheduled to assess the impact of treatment on symptom management and receive the results of the diagnostic tests. This follow-up consultation\n",
    "will be crucial in refining the treatment plan, if necessary.\n",
    "\"\"\"\n",
    "\n",
    "client.completions.create(model=\"palmyra-med\", prompt=prompt)"
   ],
   "id": "de25e9c8f7e96ff8"
  },
  {
   "metadata": {},
   "cell_type": "markdown",
   "source": "## Best practices in prompting",
   "id": "37dcfe9be66cf765"
  },
  {
   "metadata": {},
   "cell_type": "markdown",
   "source": "",
   "id": "14c296509a5fc1ca"
  }
 ],
 "metadata": {
  "kernelspec": {
   "display_name": "Python 3",
   "language": "python",
   "name": "python3"
  },
  "language_info": {
   "codemirror_mode": {
    "name": "ipython",
    "version": 2
   },
   "file_extension": ".py",
   "mimetype": "text/x-python",
   "name": "python",
   "nbconvert_exporter": "python",
   "pygments_lexer": "ipython2",
   "version": "2.7.6"
  }
 },
 "nbformat": 4,
 "nbformat_minor": 5
}
