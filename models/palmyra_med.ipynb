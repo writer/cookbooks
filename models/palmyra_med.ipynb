{
 "cells": [
  {
   "cell_type": "markdown",
   "id": "b6f36d77c74471de",
   "metadata": {},
   "source": [
    "# Palmyra Med\n",
    "\n",
    "## Overview\n",
    "\n",
    "Writer’s specialized healthcare language model, [Palmyra Med](https://writer.com/llms/palmyra-med/), is designed to support clinical and administrative workflows with high accuracy in medical terminology, coding, and analysis. With advanced capabilities for medical coding standards like RxNorm, ICD-10-CM, and SNOMED CT, it’s ideal for applications in medical analysis, treatment planning, clinical trials, and more.\n",
    "\n",
    "This cookbook demonstrates how to use Palmyra Med with the [text generation](https://dev.writer.com/api-guides/api-reference/completion-api/text-generation) and [chat completions](https://dev.writer.com/api-guides/api-reference/completion-api/chat-completion) APIs.\n",
    "\n",
    "## Prerequisites\n",
    "\n",
    "- An [AI Studio](https://aap.writer.com) account. Sign up for a [free account here](https://aap.writer.com/register).\n",
    "- A Writer API key. See how to [generate an API key here](https://dev.writer.com/api-guides/quickstart).\n",
    "\n",
    "## Setup\n",
    "\n",
    "First, install the Writer SDK:"
   ]
  },
  {
   "cell_type": "code",
   "execution_count": null,
   "id": "c7cf39f9",
   "metadata": {},
   "outputs": [],
   "source": [
    "pip install -qU writer-sdk"
   ]
  },
  {
   "cell_type": "markdown",
   "id": "c5ea51bc",
   "metadata": {},
   "source": [
    "Next, set the `WRITER_API_KEY` environment variable. We recommend setting it in a `.env` file in the root of your project, but this tutorial will set it in an environment variable if you don't have a `.env` file."
   ]
  },
  {
   "cell_type": "code",
   "execution_count": null,
   "id": "e1b25d56d1dc1f83",
   "metadata": {},
   "outputs": [],
   "source": [
    "import getpass\n",
    "import os\n",
    "from writerai import Writer\n",
    "\n",
    "if not os.getenv(\"WRITER_API_KEY\"):\n",
    "    os.environ[\"WRITER_API_KEY\"] = getpass.getpass(\"Enter your Writer API key: \")\n",
    "\n",
    "client = Writer()  # The Writer client automatically uses the WRITER_API_KEY environment variable to authenticate.\n"
   ]
  },
  {
   "cell_type": "markdown",
   "id": "9d882c79",
   "metadata": {},
   "source": [
    "## Usage\n",
    "\n",
    "You can use the Palmyra Med model to generate individual responses using the [text generation API](https://dev.writer.com/api-guides/text-generation), or as a tool in the [chat completions API](https://dev.writer.com/api-guides/model-delegation).\n",
    "\n",
    "### Clinical decision support\n",
    "\n",
    "With healthcare-specific knowledge, Palmyra Med can assist in diagnostics and treatment planning, helping healthcare providers make informed, data-backed decisions.\n",
    "\n",
    "The following example demonstrates how to use Palmyra Med to assist in diagnostics and treatment planning. It uses the text generation API to generate a response to a single prompt that describes the patient's symptoms."
   ]
  },
  {
   "cell_type": "code",
   "execution_count": null,
   "id": "bc3ba783",
   "metadata": {},
   "outputs": [],
   "source": [
    "prompt=\"\"\"The patient is experiencing persistent, non-progressive muscle weakness, primarily affecting the proximal limb-girdle muscles. There is no loss of reflexes, no sensory disturbances, and no involvement of the eye muscles. However, ptosis (droopy eyelids) and diplopia (double vision) are rare but can occur.\n",
    "\n",
    "Analyze these symptoms, provide probabilities of potential illnesses the patient may have, justify your decisions with arguments, and make a final conclusion with the diagnoses you believe are most likely.\"\"\"\n",
    "\n",
    "response = client.completions.create(model=\"palmyra-med\", prompt=prompt)\n",
    "print(response.choices[0].text)"
   ]
  },
  {
   "cell_type": "markdown",
   "id": "96987be3217f1754",
   "metadata": {},
   "source": [
    "### Document summarization and reporting\n",
    "\n",
    "Optimized for summarizing lengthy medical records and generating concise reports, Palmyra Med enhances efficiency in patient documentation and case review."
   ]
  },
  {
   "cell_type": "code",
   "execution_count": null,
   "id": "de25e9c8f7e96ff8",
   "metadata": {},
   "outputs": [],
   "source": [
    "prompt = \"\"\"\n",
    "Summarize the medical report, paying particular attention to the risks the user is exposed to. Provide any advice to the patient and format the output in Markdown.:\n",
    "\n",
    "Medical Report on John Doe and Symptoms Dear John, I hope this communication finds you well. I am writing this detailed medical report in accordance with your request to\n",
    "describe the medical standing of an individual identified as John Doe who has been experiencing various symptoms. Please note that this is a simulated scenario, and the\n",
    "information presented does not relate to a real medical condition. Based on the simulation, John Doe is a 35-year-old Caucasian male with a height of 5\\'8\" (173 cm) and weight\n",
    "190 pounds (86 kg). He has been reporting a series of symptoms that include generalized fatigue, shortness of breath, recurring headaches, frequent urination, and pain in the\n",
    "lower abdomen. The individual mentions that these symptoms have been present for approximately three months, with an incremental increase in severity over the last six weeks.\n",
    "General Physical Examination: The physical examination of the individual revealed that he has mild scleral icterus, a yellowish discoloration of the whites of the eyes. His\n",
    "pulse rate is 105 beats/min, mildly higher than the average normal rate of 60-100 beats/min. His blood pressure was measured to be 144/85 mm. Hg., indicating a mild case of\n",
    "hypertension. He has a low-grade fever of 99.5F (37.6C), which is slightly above the normal temperature. Upon palpation of the abdominal area, there was localized tenderness in\n",
    "the left lower quadrant. Symptom Analysis: The combination of symptoms as presented by the individual requires a thorough analysis to determine any correlations or underlying\n",
    "pathophysiological mechanisms. Generalized fatigue could be attributed to both mental and physical exhaustion due to the pressures of daily life. However, when fatigues is\n",
    "persistent and does not improve with rest, it could be a manifestation of an underlying medical condition. In this case, it is prudent to rule out anemia, depression, thyroid\n",
    "disorders, and sleep disorders, since they could cause persistent fatigue. Shortness of breath, also known as dyspnea, is symptom critical for evaluation in the context of\n",
    "other symptoms presented. Dyspnea, when accompanied by other symptoms in a 35-year-old individual, could be indicative of pulmonary or cardiac disorders. The occurrence of\n",
    "localized abdominal pain could be due to a gastrointestinal inflammation or obstruction. The presence of frequent urination suggests bladder or urethral irritation, possibly as\n",
    " a result of a urinary tract infection (UTI). The presence of headaches implies a possible cerebral origin and may be linked to systemic or neurological causes. Medical\n",
    "History:In taking a medical history, it is crucial to understand any pre-existing medical conditions that the individual has experienced. John Doe indicates that he has had a\n",
    "previous diagnosis of asthma as a child and still uses prescribed Ventolin inhalers for periodic flare-ups. However, there are no other significant medical conditions that he\n",
    "has experienced. The individual does not use tobacco products, drinks two to three servings of alcohol on a weekly basis, and is physically active by engaging in recreational\n",
    "sports. Diagnostic Tests: To ascertain the exact cause of his symptoms, the following diagnostic tests have been ordered:1. Complete Blood Count (CBC) with Differential: This\n",
    "would help assess if the individual is anemic and provide counts of different leukocytes, which can be indicative of inflammation or infection.2. Basic Metabolic Panel (BMP):\n",
    "This set of tests is crucial in evaluating metabolic functions, including electrolyte levels, renal (kidney) function, and liver function. It, therefore, provides valuable\n",
    "information for diagnosis of electrolyte imbalances or organ damage.3. Urine Analysis (UA): This test is critical in diagnosing any infection affecting the urinary tract. It\n",
    "also provides an excellent way of assessing glucose levels in urine, which could suggest abnormal pancreatic function.4. Chest Radiograph: Given the symptom of shortness of\n",
    "breath, a chest radiograph is necessary to evaluate any pathology in the lungs or heart that could be causing this symptom.5. Resting 12-Lead Electrocardiogram (ECG): An ECG\n",
    "evaluation is required in view of the slightly elevated blood pressure. It will assist in determining whether the cause of the hypertension is cardiac-related. Preliminary\n",
    "Diagnosis:Based on the information gathered, it is likely that John Doe has multiple health conditions that warrant further investigation to isolate each condition. It is\n",
    "possible that the individual is experiencing asthma exacerbation, which could be causing the breathing difficulties. However, the presence of generalized fatigue, recurrent\n",
    "headaches, and abdominal pain requires further examination to exclude gastrointestinal, pancreatic, or liver pathologies. Treatment Plan:The initial treatment plan for John Doe\n",
    " will require a multidisciplinary approach. It will comprise of medical management for the symptoms presented and lifestyle changes that could alleviate symptoms. An immediate\n",
    "step involves the use of an inhaler twice daily to manage his asthma. To alleviate the abdominal pain and discomfort, a proton pump inhibitor, such as omeprazole 20 mg bid, is\n",
    "prescribed. Given the presence of shortness of breath, the use of bronchodilators is also recommended to open up the airways in the event of an asthma flare-up. To address the\n",
    "symptom of recurrent headaches, it is essential to maintain a consistent sleep pattern, use stress-reduction techniques, and avoid overexertion. Acetaminophen 500 mg bid may be\n",
    " used for immediate relief of the headaches. Additionally, lifestyle changes such as dietary modifications, frequent hydration, and reduced alcohol intake are recommended. A\n",
    "follow-up consultation will be scheduled to assess the impact of treatment on symptom management and receive the results of the diagnostic tests. This follow-up consultation\n",
    "will be crucial in refining the treatment plan, if necessary.\n",
    "\"\"\"\n",
    "\n",
    "response = client.completions.create(model=\"palmyra-med\", prompt=prompt)\n",
    "print(response.choices[0].text)"
   ]
  },
  {
   "cell_type": "markdown",
   "id": "14c296509a5fc1ca",
   "metadata": {},
   "source": [
    "### Use Palmyra Med in a chat\n",
    "\n",
    "During a chat with a general Palmyra LLM, you can indicate that the LLM should use Palmyra Med to assist with specific medical topics. The following example demonstrates how to use Palmyra Med as a tool in the chat completions API.\n",
    "\n",
    "First, define the tool that tells the LLM how and when to use Palmyra Med:"
   ]
  },
  {
   "cell_type": "code",
   "execution_count": null,
   "id": "095d01db",
   "metadata": {},
   "outputs": [],
   "source": [
    "tools = [{\n",
    "    \"type\": \"llm\",\n",
    "    \"function\": {\n",
    "        \"description\": \"A function that will invoke the llm identified by the given model, specialized in answering medical queries. Any user request asking for medical advice should use this tool.\",\n",
    "        \"model\": \"palmyra-med\"\n",
    "    }\n",
    "}]"
   ]
  },
  {
   "cell_type": "markdown",
   "id": "dd87494d",
   "metadata": {},
   "source": [
    "Then, pass the tool to the chat completions API, along with the message history between the user and the LLM. The example below creates a chat between a user and the `palmyra-x-004` model, and provides the LLM tool to the API to use Palmyra Med when the user asks for medical advice. It streams the response to the console. It also prints the value of the `llm_data` field from the response, which shows the tool call used to generate the response."
   ]
  },
  {
   "cell_type": "code",
   "execution_count": null,
   "id": "5f730088",
   "metadata": {},
   "outputs": [],
   "source": [
    "messages = [{\"role\": \"user\", \"content\": \"What are the potential side effects of 2.5mg of albuterol?\"}]\n",
    "\n",
    "response = client.chat.chat(\n",
    "    model=\"palmyra-x-004\", \n",
    "    messages=messages, \n",
    "    tools=tools,  # The tools array defined earlier.\n",
    "    tool_choice=\"auto\",\n",
    "    stream=True\n",
    ")\n",
    "\n",
    "llm_data = None\n",
    "for chunk in response:\n",
    "    if chunk.choices[0].delta.llm_data is not None:\n",
    "        llm_data = chunk.choices[0].delta.llm_data\n",
    "    if chunk.choices[0].delta.content is not None:\n",
    "        print(chunk.choices[0].delta.content, end=\"\", flush=True)\n",
    "\n",
    "print(\"\\nLLM data:\", llm_data)"
   ]
  },
  {
   "cell_type": "code",
   "execution_count": null,
   "id": "286804ac-581e-490b-b885-8b1a7975462b",
   "metadata": {},
   "outputs": [],
   "source": []
  },
  {
   "cell_type": "code",
   "execution_count": null,
   "id": "a383d594-418f-4d40-b8c5-5f87aa35e37f",
   "metadata": {},
   "outputs": [],
   "source": []
  }
 ],
 "metadata": {
  "kernelspec": {
   "display_name": "Python 3 (ipykernel)",
   "language": "python",
   "name": "python3"
  },
  "language_info": {
   "codemirror_mode": {
    "name": "ipython",
    "version": 3
   },
   "file_extension": ".py",
   "mimetype": "text/x-python",
   "name": "python",
   "nbconvert_exporter": "python",
   "pygments_lexer": "ipython3",
   "version": "3.13.2"
  }
 },
 "nbformat": 4,
 "nbformat_minor": 5
}
