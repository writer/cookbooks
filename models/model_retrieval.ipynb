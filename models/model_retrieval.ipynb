{
 "cells": [
  {
   "cell_type": "markdown",
   "id": "a5646bce-1e74-4bc0-8a0b-d3bd6afcd96d",
   "metadata": {},
   "source": [
    "# **Writer models**\n",
    "\n",
    "While the [_Models_](https://dev.writer.com/home/models) page on the Writer site lists Writer’s different large language models, the way to get the most up-to-date list of models is to do it _programmatically_. This cookbook will show you how.\n",
    "\n",
    "## **Contents**\n",
    "\n",
    "- [Introduction](#introduction)\n",
    "- [Setup](#setup)\n",
    "- [The `models` object](#the-models-object)\n",
    "- [Getting the list of models](#getting-the-list-of-models)\n",
    "\n",
    "<a id=\"introduction\"></a>\n",
    "## **Introduction**\n",
    "\n",
    "Writer produces different LLMs for different purposes, which are indicated by their names:\n",
    "\n",
    "- The **X (`x`)** models are general-purpose LLMs. They’re designed to work with all kinds of text and generate responses in all kinds of domains.\n",
    "- The **Medical (`med`)** models are tailored for the healthcare industry. They’re designed to understand and analyze medical documents, process clinical notes and answer medical questions, and generate diagnostic reports.\n",
    "- The **Financial (`fin`)** models are developed specifically for the financial sector. They’re designed specifically for analyzing and synthesizing long financial documents, including comprehensive market reports, detailed investment analyses, and lengthy regulatory filings.\n",
    "\n",
    "Some Writer model names include a number followed by “K.” This indicates the size of that model’s context window, expressed as thousands of tokens. For example, a number of models have “32K” in their name; these models have a 32,000-token context window."
   ]
  },
  {
   "cell_type": "markdown",
   "id": "c6656292-7b9d-4419-9768-1a7f27467d8e",
   "metadata": {},
   "source": [
    "<a id=\"setup\"></a>\n",
    "## **Setup**\n",
    "\n",
    "### Dependencies\n",
    "\n",
    "This notebook uses the following packages:\n",
    "\n",
    "* `python-dotenv`: To load environment variables.\n",
    "* `writer-sdk`: To access the Writer API.\n",
    "\n",
    "Run the cell below ensure you have these packages."
   ]
  },
  {
   "cell_type": "code",
   "execution_count": null,
   "id": "6c7cb127-0f44-48ad-bec9-51c59a8e7917",
   "metadata": {},
   "outputs": [],
   "source": [
    "%pip install -r requirements.txt -q"
   ]
  },
  {
   "cell_type": "markdown",
   "id": "9143a2f9-4294-479b-a1fc-60b90ae23387",
   "metadata": {},
   "source": [
    "### Initialization\n",
    "\n",
    "The cell below performs the initialization required for this notebook including the creation of an instance of the `Writer` object to interact with the LLM.\n",
    "\n",
    "To create a Writer client object, you need an API key. [You can sign up for one for free](https://app.writer.com/aistudio/signup). \n",
    "\n",
    "Once you have an API key, we recommend that you store it as an environment variable in a `.env` file like so:\n",
    "\n",
    "```\n",
    "WRITER_API_KEY=\"{Your Writer API key goes here}\"\n",
    "```\n",
    "\n",
    "When you instantiate the client with `client = Writer()`, the newly-created object will automatically look for an environment variable named `WRITER_API_KEY` and will complete the instantiation if an only if `WRITER_API_KEY` has been defined. This notebook uses the [python-dotenv](https://pypi.org/project/python-dotenv/) library to automatically define environment variables based on the contents of an `.env` file in the same directory.\n",
    "\n",
    "The `Writer()` initializer method also has an `api_key` parameter that you can use like this...\n",
    "\n",
    "```\n",
    "client = Writer(api_key=\"{Your Writer API key goes here}\")\n",
    "```\n",
    "\n",
    "...but we strongly encourage you not to leave API keys in your source code."
   ]
  },
  {
   "cell_type": "code",
   "execution_count": null,
   "id": "0497d092-b7e1-4ccb-86d5-1643f3d8404c",
   "metadata": {},
   "outputs": [],
   "source": [
    "# Run this cell before running any other cells in this cookbook!\n",
    "\n",
    "from writerai import Writer\n",
    "\n",
    "# Load environment variables from .env file\n",
    "%reload_ext dotenv\n",
    "%dotenv\n",
    "\n",
    "client = Writer()"
   ]
  },
  {
   "cell_type": "markdown",
   "id": "ad34071a",
   "metadata": {},
   "source": [
    "<a id=\"the-models-object\"></a>\n",
    "## **The `models` object**\n",
    "\n",
    "Now that you have a Writer client instance, you can programmatically get a list of the currently available Writer models! \n",
    "\n",
    "The `models` property of a Writer client instance contains methods and properties related to text completion. In the example in this cookbook, you’ll get the list of available models using the `models` property’s `list()` method.\n"
   ]
  },
  {
   "cell_type": "markdown",
   "id": "baec8f59-bba2-4ab2-8ee9-61f80f49ff30",
   "metadata": {},
   "source": [
    "<a id=\"getting-the-list-of-models\"></a>\n",
    "## **Getting the list of models**\n",
    "\n",
    "To get a list of models, access the `models` property of the `models.list()` method:"
   ]
  },
  {
   "cell_type": "code",
   "execution_count": null,
   "id": "06f179ef-0afb-457f-b01b-ba4ede57709b",
   "metadata": {},
   "outputs": [],
   "source": [
    "# Display a list of Writer model names and IDs\n",
    "print(\"Writer models\")\n",
    "print(\"=============\")\n",
    "for index, model in enumerate(client.models.list().models, start=1):\n",
    "    print(f\"{index}. {model.name} (id: {model.id})\")"
   ]
  },
  {
   "cell_type": "markdown",
   "id": "66d5d08f",
   "metadata": {},
   "source": [
    " This will return a list of `Model` objects, which have the following properties:\n",
    "\n",
    "<table width=\"66%\">\n",
    "    <tr>\n",
    "        <th width=\"25%\" style=\"background-color: #5551ff; color: #ffffff;\">Property</th>\n",
    "        <th style=\"background-color: #5551ff; color: #ffffff;\">Description</th>\n",
    "    </tr>\n",
    "    <tr>\n",
    "        <td style=\"border: 1px solid #bfcbff;\"><code>name</code></td>\n",
    "        <td style=\"border: 1px solid #bfcbff;\">\n",
    "            The name of the model.\n",
    "        </td>\n",
    "    </tr>\n",
    "    <tr>\n",
    "        <td style=\"border: 1px solid #bfcbff;\"><code>id</code></td>\n",
    "        <td style=\"border: 1px solid #bfcbff;\">\n",
    "            The ID of the model, which you need to specify when requesting a chat completion\n",
    "            or a text completion.\n",
    "        </td>\n",
    "    </tr>\n",
    "</table>"
   ]
  },
  {
   "cell_type": "markdown",
   "id": "e414fa14",
   "metadata": {},
   "source": [
    "<a id=\"for-more-information\"></a>\n",
    "## **For more information**\n",
    "\n",
    "For more information about models, the `models` object, and its `list()` method, see:\n",
    "\n",
    "- [The _Models_ guide](https://dev.writer.com/home/models)\n",
    "- [The Completion API’s _List models_ page](https://dev.writer.com/api-guides/api-reference/completion-api/list-models)"
   ]
  }
 ],
 "metadata": {
  "kernelspec": {
   "display_name": "Python 3 (ipykernel)",
   "language": "python",
   "name": "python3"
  },
  "language_info": {
   "codemirror_mode": {
    "name": "ipython",
    "version": 3
   },
   "file_extension": ".py",
   "mimetype": "text/x-python",
   "name": "python",
   "nbconvert_exporter": "python",
   "pygments_lexer": "ipython3",
   "version": "3.12.4"
  }
 },
 "nbformat": 4,
 "nbformat_minor": 5
}
