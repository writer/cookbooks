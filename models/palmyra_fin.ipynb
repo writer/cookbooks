{
 "cells": [
  {
   "cell_type": "markdown",
   "id": "b6f36d77c74471de",
   "metadata": {},
   "source": [
    "# Palmyra Fin\n",
    "\n",
    "## Overview\n",
    "\n",
    "[Palmyra Fin](https://writer.com/llms/palmyra-fin/) is Writer’s specialized language model for the finance industry, designed to support critical financial workflows with precision in terminology, document analysis, and complex investment analysis. Equipped with advanced capabilities for market analysis, risk assessment, and regulatory reporting, Palmyra Fin empowers financial organizations to streamline processes and make data-driven decisions confidently.\n",
    "\n",
    "This cookbook demonstrates how to use Palmyra Fin with the [text generation](https://dev.writer.com/api-guides/api-reference/completion-api/text-generation) and [chat completions](https://dev.writer.com/api-guides/api-reference/completion-api/chat-completion) APIs.\n",
    "\n",
    "## Prerequisites\n",
    "\n",
    "- An [AI Studio](https://aap.writer.com) account. Sign up for a [free account here](https://aap.writer.com/register).\n",
    "- A Writer API key. See how to [generate an API key here](https://dev.writer.com/api-guides/quickstart).\n",
    "\n",
    "## Setup\n",
    "\n",
    "First, install the Writer SDK:"
   ]
  },
  {
   "cell_type": "code",
   "execution_count": null,
   "id": "3b49e4a7df119967",
   "metadata": {},
   "outputs": [
    {
     "name": "stdout",
     "output_type": "stream",
     "text": [
      "\n",
      "\u001b[1m[\u001b[0m\u001b[34;49mnotice\u001b[0m\u001b[1;39;49m]\u001b[0m\u001b[39;49m A new release of pip is available: \u001b[0m\u001b[31;49m24.2\u001b[0m\u001b[39;49m -> \u001b[0m\u001b[32;49m25.0.1\u001b[0m\n",
      "\u001b[1m[\u001b[0m\u001b[34;49mnotice\u001b[0m\u001b[1;39;49m]\u001b[0m\u001b[39;49m To update, run: \u001b[0m\u001b[32;49mpip install --upgrade pip\u001b[0m\n",
      "Note: you may need to restart the kernel to use updated packages.\n"
     ]
    }
   ],
   "source": [
    "%pip install -qU writer-sdk"
   ]
  },
  {
   "cell_type": "markdown",
   "id": "73cc6fb0",
   "metadata": {},
   "source": [
    "Next, set the `WRITER_API_KEY` environment variable. We recommend setting it in a `.env` file in the root of your project, but this tutorial will set it in an environment variable if you don't have a `.env` file."
   ]
  },
  {
   "cell_type": "code",
   "execution_count": null,
   "id": "1c8a135a",
   "metadata": {},
   "outputs": [],
   "source": [
    "import getpass\n",
    "import os\n",
    "from writerai import Writer\n",
    "\n",
    "if not os.getenv(\"WRITER_API_KEY\"):\n",
    "    os.environ[\"WRITER_API_KEY\"] = getpass.getpass(\"Enter your Writer API key: \")\n",
    "\n",
    "client = Writer()"
   ]
  },
  {
   "cell_type": "markdown",
   "id": "7a8706e473bcfe8e",
   "metadata": {},
   "source": [
    "## Usage\n",
    "\n",
    "### Market and financial analysis\n",
    "\n",
    "Palmyra Fin interprets and analyzes data trends, enabling financial analysts to generate insights and forecasts for strategic decision-making. This example demonstrates how to use Palmyra Fin to generate a stock forecast using the [text generation API](https://dev.writer.com/api-guides/text-generation). It streams the response to the console."
   ]
  },
  {
   "cell_type": "code",
   "execution_count": null,
   "id": "f42e244a9f87a573",
   "metadata": {},
   "outputs": [
    {
     "name": "stdout",
     "output_type": "stream",
     "text": [
      "To analyze the trends in the provided stock data, we can look at several key indicators: price movements, volume, and momentum. We can then use these insights to make an informed prediction about future prices and develop an investment plan.\n",
      "\n",
      "### Trend Analysis\n",
      "\n",
      "#### 1. **Price Movements**\n",
      "The stock has shown a consistent upward trend over the given period. From January 3 (100.00) to January 31 (124.50), the price has increased by 24.50%, indicating a strong bullish momentum.\n",
      "\n",
      "#### 2. **Volume**\n",
      "The volume has shown a decreasing trend over the period. The highest volume was on January 18 (10,000,000) and the lowest on January 31 (3,500,000). This suggests that the recent price increases may be less supported by strong buying volume, which could be a potential indicator of downward pressure in the near future.\n",
      "\n",
      "#### 3. **Momentum Indicators**\n",
      "To further confirm the trend, we can calculate some momentum indicators such as the Relative Strength Index (RSI) and Moving Averages.\n",
      "\n",
      "- **RSI (14-day)**: The RSI measures the strength of the stock's recent gains relative to its recent losses. An RSI above 70 is generally considered overbought, while below 30 is considered oversold. We need to calculate the RSI using the provided data. For simplicity, let's assume the RSI is in the high 70s based on the strong upward trend.\n",
      "\n",
      "- **Moving Averages (50-day and 200-day)**: Since we only have a month's data, we can use the 10-day and 20-day moving averages as proxies. \n",
      "  - 10-day Moving Average: (101.25 + 102.00 + 103.25 + 104.00 + 105.25 + 106.75 + 107.25 + 108.75 + 110.00 + 111.25) / 10 = 106.70\n",
      "  - 20-day Moving Average: (101.25 + 102.00 + 103.25 + 104.00 + 105.25 + 106.75 + 107.25 + 108.75 + 110.00 + 111.25 + 112.50 + 113.75 + 114.00 + 115.25 + 116.25 + 118.00 + 119.50 + 120.75 + 122.00 + 123.75) / 20 = 110.87\n",
      "  - The stock is above both the 10-day and 20-day moving averages, indicating a strong uptrend.\n",
      "\n",
      "### Predictions\n",
      "\n",
      "Based on the trend analysis, the stock has been in a strong bullish phase. However, the decreasing volume and potentially overbought RSI suggest that a short-term pullback could be likely. \n",
      "\n",
      "- **Short-term (next 1-2 months)**: The stock may experience a correction, with potential support around the 10-day moving average (106.70) or the 20-day moving average (110.87). Look for signs of strength, such as a quick bounce above these levels, to confirm the resilience of the uptrend.\n",
      "\n",
      "- **Long-term (next 6-12 months)**: If the stock can maintain support above the 100-day moving average (which we would need to calculate with more data), the overall positive trend could continue. However, watch for any significant breaks below these moving averages, which could indicate a change in trend.\n",
      "\n",
      "### Investment Plan\n",
      "\n",
      "Given the strong upward momentum and the potential for a short-term pullback, a balanced investment plan would involve a combination of trend following and risk management.\n",
      "\n",
      "#### 1. **Long Position with Trailing Stop**\n",
      "- **Entry**: Consider entering a long position if the stock bounces off the 10-day or 20-day moving average support.\n",
      "- **Stop Loss**: Place a trailing stop loss at a level that will protect against a significant reversal (e.g., 5% below the entry price).\n",
      "- **Target**: Set a target based on the continued trend, possibly using a Fibonacci extension or a key resistance level.\n",
      "\n",
      "#### 2. **Options Strategy**\n",
      "- **Bull Call Spread**: If you are risk-averse, consider a bull call spread, which allows you to benefit from a price increase while limiting your risk.\n",
      "- **Bull Put Spread**: If you believe the stock will stabilize at current levels, a bull put spread can be used to collect premiums while being protected against a downward move.\n",
      "\n",
      "#### 3. **Risk Management**\n",
      "- **Diversification**: Ensure that your portfolio is diversified across different sectors and asset classes.\n",
      "- **Position Sizing**: Allocate a portion of your portfolio to this stock based on your risk tolerance and overall investment strategy.\n",
      "- **Rebalancing**: Regularly review your portfolio and rebalance as needed to maintain your desired asset allocation.\n",
      "\n",
      "### Conclusion\n",
      "\n",
      "The stock has shown strong bullish momentum, but the decreasing volume and potential overbought conditions suggest a short-term pullback is possible. A balanced investment approach, combining trend following with risk management, is recommended. Monitor the stock's price action, volume, and technical indicators to make informed decisions about entry and exit points."
     ]
    }
   ],
   "source": [
    "prompt = \"\"\"\n",
    "Here is a stock data in csv format:\n",
    "<csv>\n",
    "Date,Open,High,Low,Close,Adjusted Close,Volume\n",
    "2023-01-03,100.00,102.50,98.75,101.25,101.25,5000000\n",
    "2023-01-04,101.50,103.00,100.25,102.00,102.00,4500000\n",
    "2023-01-05,102.25,104.50,101.75,103.25,103.25,5500000\n",
    "2023-01-06,103.00,104.75,102.50,104.00,104.00,6000000\n",
    "2023-01-09,104.25,106.00,103.50,105.25,105.25,5800000\n",
    "2023-01-10,105.00,107.50,104.25,106.75,106.75,7000000\n",
    "2023-01-11,106.50,108.00,105.00,107.25,107.25,6500000\n",
    "2023-01-12,107.00,109.25,106.50,108.75,108.75,8000000\n",
    "2023-01-13,108.50,111.00,107.25,110.00,110.00,7500000\n",
    "2023-01-16,110.25,112.50,109.00,111.25,111.25,9000000\n",
    "2023-01-17,111.50,113.00,110.50,112.50,112.50,8500000\n",
    "2023-01-18,112.00,114.25,111.00,113.75,113.75,10000000\n",
    "2023-01-19,113.50,115.00,112.25,114.00,114.00,9500000\n",
    "2023-01-20,114.25,116.50,113.00,115.25,115.25,8500000\n",
    "2023-01-23,115.00,117.00,114.25,116.25,116.25,7500000\n",
    "2023-01-24,116.50,118.75,115.50,118.00,118.00,6500000\n",
    "2023-01-25,117.75,120.00,116.25,119.50,119.50,5500000\n",
    "2023-01-26,119.00,121.25,117.75,120.75,120.75,5000000\n",
    "2023-01-27,120.50,122.50,119.00,122.00,122.00,4500000\n",
    "2023-01-30,122.25,124.50,120.50,123.75,123.75,4000000\n",
    "2023-01-31,123.50,125.00,122.25,124.50,124.50,3500000\n",
    "</csv>\n",
    "Analyze the trends in the provided data, make predictions about future prices for this symbol, and create an investment plan based on your findings.\n",
    "\"\"\"\n",
    "\n",
    "response = client.completions.create(model=\"palmyra-fin\", prompt=prompt, stream=True)\n",
    "for chunk in response:\n",
    "    print(chunk.value, end=\"\", flush=True)"
   ]
  },
  {
   "cell_type": "markdown",
   "id": "96987be3217f1754",
   "metadata": {},
   "source": [
    "### Risk assessment\n",
    "\n",
    "With a deep understanding of financial language and terminology, Palmyra Fin helps assess risk factors, generating precise reports that aid in risk management compliance. This next example demonstrates how to use Palmyra Fin to generate a risk assessment report using the text generation API."
   ]
  },
  {
   "cell_type": "code",
   "execution_count": null,
   "id": "de25e9c8f7e96ff8",
   "metadata": {},
   "outputs": [],
   "source": [
    "prompt = \"\"\"\n",
    "'Success Financial Services' needs to assess the credit risk of a newly acquired portfolio of corporate loans.\n",
    "The portfolio includes loans to companies in different industries such metallurgy, machine-tool construction, instrumentation and light industry.\n",
    "Additionally, the bank must ensure compliance with Basel III and other relevant regulations.\n",
    "Can you generate a comprehensive risk assessment report that includes credit risk analysis for each loan, a summary of compliance with regulatory requirements, and recommendations for mitigating identified risks?\n",
    "\"\"\"\n",
    "\n",
    "response = client.completions.create(model=\"palmyra-fin\", prompt=prompt, stream=True)\n",
    "for chunk in response:\n",
    "    print(chunk.value, end=\"\", flush=True)"
   ]
  },
  {
   "cell_type": "markdown",
   "id": "7d3cea45",
   "metadata": {},
   "source": [
    "### Use Palmyra Fin in a chat\n",
    "\n",
    "The following example demonstrates how to use Palmyra Fin in a chat with a general Palmyra LLM. It uses the [chat completions](https://dev.writer.com/api-guides/model-delegation) API and passes the `palmyra-fin` model as a tool that the LLM can use when a user asks for financial analysis.\n",
    "\n",
    "First, define the tool that will use Palmyra Fin:"
   ]
  },
  {
   "cell_type": "code",
   "execution_count": null,
   "id": "e5e43f00",
   "metadata": {},
   "outputs": [],
   "source": [
    "tools = [{\n",
    "    \"type\": \"llm\",\n",
    "    \"function\": {\n",
    "        \"description\": \"A function that will invoke the llm identified by the given model, specialized in financial analysis. Any user request asking for financial advice or analysis should use this tool.\",\n",
    "        \"model\": \"palmyra-fin\"\n",
    "    }\n",
    "}]"
   ]
  },
  {
   "cell_type": "markdown",
   "id": "d3c2ee8d",
   "metadata": {},
   "source": [
    "Then, pass the `tools` array when creating a chat completion. The example below creates a hypothetical chat with a user who asks for financial analysis for a new product. It streams the response and also displays the value from the `llm_data` field of the response, which shows the tool call used to generate the response."
   ]
  },
  {
   "cell_type": "code",
   "execution_count": null,
   "id": "afd12a85",
   "metadata": {},
   "outputs": [],
   "source": [
    "messages = [{\"role\": \"user\", \"content\": \"What is the risk of investing in the stock market?\"}]\n",
    "\n",
    "response = client.chat.chat(\n",
    "    model=\"palmyra-x-004\",\n",
    "    messages=messages,\n",
    "    tools=tools,\n",
    "    tool_choice=\"auto\",\n",
    "    stream=True  # The tools array defined earlier.\n",
    ")\n",
    "\n",
    "llm_data = None\n",
    "for chunk in response:\n",
    "    if chunk.choices[0].delta.llm_data is not None:\n",
    "        llm_data = chunk.choices[0].delta.llm_data\n",
    "    if chunk.choices[0].delta.content is not None:\n",
    "        print(chunk.choices[0].delta.content, end=\"\", flush=True)\n",
    "\n",
    "print(\"\\nLLM data:\", llm_data)\n"
   ]
  }
 ],
 "metadata": {
  "kernelspec": {
   "display_name": "Python 3 (ipykernel)",
   "language": "python",
   "name": "python3"
  },
  "language_info": {
   "codemirror_mode": {
    "name": "ipython",
    "version": 3
   },
   "file_extension": ".py",
   "mimetype": "text/x-python",
   "name": "python",
   "nbconvert_exporter": "python",
   "pygments_lexer": "ipython3",
   "version": "3.13.2"
  }
 },
 "nbformat": 4,
 "nbformat_minor": 5
}
