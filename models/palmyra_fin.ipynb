{
 "cells": [
  {
   "cell_type": "markdown",
   "id": "b6f36d77c74471de",
   "metadata": {},
   "source": [
    "# Palmyra Fin\n",
    "\n",
    "## Overview\n",
    "\n",
    "[Palmyra Fin](https://writer.com/llms/palmyra-fin/) is Writer’s specialized language model for the finance industry, designed to support critical financial workflows with precision in terminology, document analysis, and complex investment analysis. Equipped with advanced capabilities for market analysis, risk assessment, and regulatory reporting, Palmyra Fin empowers financial organizations to streamline processes and make data-driven decisions confidently.\n",
    "\n",
    "This cookbook demonstrates how to use Palmyra Fin with the [text generation](https://dev.writer.com/api-guides/api-reference/completion-api/text-generation) and [chat completions](https://dev.writer.com/api-guides/api-reference/completion-api/chat-completion) APIs.\n",
    "\n",
    "## Prerequisites\n",
    "\n",
    "- An [AI Studio](https://aap.writer.com) account. Sign up for a [free account here](https://aap.writer.com/register).\n",
    "- A Writer API key. See how to [generate an API key here](https://dev.writer.com/api-guides/quickstart).\n",
    "\n",
    "## Setup\n",
    "\n",
    "First, install the Writer SDK:"
   ]
  },
  {
   "cell_type": "code",
   "execution_count": null,
   "id": "3b49e4a7df119967",
   "metadata": {},
   "outputs": [],
   "source": [
    "%pip install -qU writer-sdk"
   ]
  },
  {
   "cell_type": "markdown",
   "id": "73cc6fb0",
   "metadata": {},
   "source": [
    "Next, set the `WRITER_API_KEY` environment variable. We recommend setting it in a `.env` file in the root of your project, but this tutorial will set it in an environment variable if you don't have a `.env` file."
   ]
  },
  {
   "cell_type": "code",
   "execution_count": null,
   "id": "1c8a135a",
   "metadata": {},
   "outputs": [],
   "source": [
    "import getpass\n",
    "import os\n",
    "from writerai import Writer\n",
    "\n",
    "if not os.getenv(\"WRITER_API_KEY\"):\n",
    "    os.environ[\"WRITER_API_KEY\"] = getpass.getpass(\"Enter your Writer API key: \")\n",
    "\n",
    "client = Writer()"
   ]
  },
  {
   "cell_type": "markdown",
   "id": "7a8706e473bcfe8e",
   "metadata": {},
   "source": [
    "## Usage\n",
    "\n",
    "### Market and financial analysis\n",
    "\n",
    "Palmyra Fin interprets and analyzes data trends, enabling financial analysts to generate insights and forecasts for strategic decision-making. This example demonstrates how to use Palmyra Fin to generate a stock forecast using the [text generation API](https://dev.writer.com/api-guides/text-generation). It streams the response to the console."
   ]
  },
  {
   "cell_type": "code",
   "execution_count": null,
   "id": "f42e244a9f87a573",
   "metadata": {},
   "outputs": [],
   "source": [
    "prompt = \"\"\"\n",
    "Here is a stock data in csv format:\n",
    "<csv>\n",
    "Date,Open,High,Low,Close,Adjusted Close,Volume\n",
    "2023-01-03,100.00,102.50,98.75,101.25,101.25,5000000\n",
    "2023-01-04,101.50,103.00,100.25,102.00,102.00,4500000\n",
    "2023-01-05,102.25,104.50,101.75,103.25,103.25,5500000\n",
    "2023-01-06,103.00,104.75,102.50,104.00,104.00,6000000\n",
    "2023-01-09,104.25,106.00,103.50,105.25,105.25,5800000\n",
    "2023-01-10,105.00,107.50,104.25,106.75,106.75,7000000\n",
    "2023-01-11,106.50,108.00,105.00,107.25,107.25,6500000\n",
    "2023-01-12,107.00,109.25,106.50,108.75,108.75,8000000\n",
    "2023-01-13,108.50,111.00,107.25,110.00,110.00,7500000\n",
    "2023-01-16,110.25,112.50,109.00,111.25,111.25,9000000\n",
    "2023-01-17,111.50,113.00,110.50,112.50,112.50,8500000\n",
    "2023-01-18,112.00,114.25,111.00,113.75,113.75,10000000\n",
    "2023-01-19,113.50,115.00,112.25,114.00,114.00,9500000\n",
    "2023-01-20,114.25,116.50,113.00,115.25,115.25,8500000\n",
    "2023-01-23,115.00,117.00,114.25,116.25,116.25,7500000\n",
    "2023-01-24,116.50,118.75,115.50,118.00,118.00,6500000\n",
    "2023-01-25,117.75,120.00,116.25,119.50,119.50,5500000\n",
    "2023-01-26,119.00,121.25,117.75,120.75,120.75,5000000\n",
    "2023-01-27,120.50,122.50,119.00,122.00,122.00,4500000\n",
    "2023-01-30,122.25,124.50,120.50,123.75,123.75,4000000\n",
    "2023-01-31,123.50,125.00,122.25,124.50,124.50,3500000\n",
    "</csv>\n",
    "Analyze the trends in the provided data, make predictions about future prices for this symbol, and create an investment plan based on your findings.\n",
    "\"\"\"\n",
    "\n",
    "response = client.completions.create(model=\"palmyra-fin\", prompt=prompt, stream=True)\n",
    "for chunk in response:\n",
    "    print(chunk.value, end=\"\", flush=True)"
   ]
  },
  {
   "cell_type": "markdown",
   "id": "96987be3217f1754",
   "metadata": {},
   "source": [
    "### Risk assessment\n",
    "\n",
    "With a deep understanding of financial language and terminology, Palmyra Fin helps assess risk factors, generating precise reports that aid in risk management compliance. This next example demonstrates how to use Palmyra Fin to generate a risk assessment report using the text generation API."
   ]
  },
  {
   "cell_type": "code",
   "execution_count": null,
   "id": "de25e9c8f7e96ff8",
   "metadata": {},
   "outputs": [],
   "source": [
    "prompt = \"\"\"\n",
    "'Success Financial Services' needs to assess the credit risk of a newly acquired portfolio of corporate loans.\n",
    "The portfolio includes loans to companies in different industries such metallurgy, machine-tool construction, instrumentation and light industry.\n",
    "Additionally, the bank must ensure compliance with Basel III and other relevant regulations.\n",
    "Can you generate a comprehensive risk assessment report that includes credit risk analysis for each loan, a summary of compliance with regulatory requirements, and recommendations for mitigating identified risks?\n",
    "\"\"\"\n",
    "\n",
    "response = client.completions.create(model=\"palmyra-fin\", prompt=prompt, stream=True)\n",
    "for chunk in response:\n",
    "    print(chunk.value, end=\"\", flush=True)"
   ]
  },
  {
   "cell_type": "markdown",
   "id": "7d3cea45",
   "metadata": {},
   "source": [
    "### Use Palmyra Fin in a chat\n",
    "\n",
    "The following example demonstrates how to use Palmyra Fin in a chat with a general Palmyra LLM. It uses the [chat completions](https://dev.writer.com/api-guides/model-delegation) API and passes the `palmyra-fin` model as a tool that the LLM can use when a user asks for financial analysis.\n",
    "\n",
    "First, define the tool that will use Palmyra Fin:"
   ]
  },
  {
   "cell_type": "code",
   "execution_count": null,
   "id": "e5e43f00",
   "metadata": {},
   "outputs": [],
   "source": [
    "tools = [{\n",
    "    \"type\": \"llm\",\n",
    "    \"function\": {\n",
    "        \"description\": \"A function that will invoke the llm identified by the given model, specialized in financial analysis. Any user request asking for financial advice or analysis should use this tool.\",\n",
    "        \"model\": \"palmyra-fin\"\n",
    "    }\n",
    "}]"
   ]
  },
  {
   "cell_type": "markdown",
   "id": "d3c2ee8d",
   "metadata": {},
   "source": [
    "Then, pass the `tools` array when creating a chat completion. The example below creates a hypothetical chat with a user who asks for financial analysis for a new product. It streams the response and also displays the value from the `llm_data` field of the response, which shows the tool call used to generate the response."
   ]
  },
  {
   "cell_type": "code",
   "execution_count": null,
   "id": "afd12a85",
   "metadata": {},
   "outputs": [],
   "source": [
    "messages = [{\"role\": \"user\", \"content\": \"What is the risk of investing in the stock market?\"}]\n",
    "\n",
    "response = client.chat.chat(\n",
    "    model=\"palmyra-x-004\",\n",
    "    messages=messages,\n",
    "    tools=tools,\n",
    "    tool_choice=\"auto\",\n",
    "    stream=True  # The tools array defined earlier.\n",
    ")\n",
    "\n",
    "llm_data = None\n",
    "for chunk in response:\n",
    "    if chunk.choices[0].delta.llm_data is not None:\n",
    "        llm_data = chunk.choices[0].delta.llm_data\n",
    "    if chunk.choices[0].delta.content is not None:\n",
    "        print(chunk.choices[0].delta.content, end=\"\", flush=True)\n",
    "\n",
    "print(\"\\nLLM data:\", llm_data)\n"
   ]
  },
  {
   "cell_type": "code",
   "execution_count": null,
   "id": "c5a6eae0-3239-4769-bebd-d5d135575116",
   "metadata": {},
   "outputs": [],
   "source": []
  }
 ],
 "metadata": {
  "kernelspec": {
   "display_name": "Python 3 (ipykernel)",
   "language": "python",
   "name": "python3"
  },
  "language_info": {
   "codemirror_mode": {
    "name": "ipython",
    "version": 3
   },
   "file_extension": ".py",
   "mimetype": "text/x-python",
   "name": "python",
   "nbconvert_exporter": "python",
   "pygments_lexer": "ipython3",
   "version": "3.13.2"
  }
 },
 "nbformat": 4,
 "nbformat_minor": 5
}
