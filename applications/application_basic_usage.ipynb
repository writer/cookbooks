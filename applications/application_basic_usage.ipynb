{
 "cells": [
  {
   "metadata": {},
   "cell_type": "markdown",
   "source": "## Setup",
   "id": "e8aa907f876bb781"
  },
  {
   "metadata": {},
   "cell_type": "code",
   "source": "%pip install -qU writer-sdk",
   "id": "c05643760cecc348",
   "outputs": [],
   "execution_count": null
  },
  {
   "metadata": {},
   "cell_type": "markdown",
   "source": [
    "### Initialization\n",
    "\n",
    "Sign up for [Writer AI Studio](https://app.writer.com/aistudio/signup?utm_campaign=devrel) and follow this [Quickstart](https://dev.writer.com/api-guides/quickstart) to obtain an API key. Then, set the WRITER_API_KEY environment variable:"
   ],
   "id": "f3d9312e9a13f5e5"
  },
  {
   "metadata": {},
   "cell_type": "code",
   "source": [
    "import getpass\n",
    "import os\n",
    "from writerai import Writer\n",
    "\n",
    "if not os.getenv(\"WRITER_API_KEY\"):\n",
    "    os.environ[\"WRITER_API_KEY\"] = getpass.getpass(\"Enter your Writer API key: \")\n",
    "\n",
    "client = Writer()"
   ],
   "id": "785ea1629cdbb182",
   "outputs": [],
   "execution_count": null
  },
  {
   "metadata": {},
   "cell_type": "markdown",
   "source": "### Usage",
   "id": "8608bb9b23a5498e"
  },
  {
   "metadata": {},
   "cell_type": "markdown",
   "source": "#### Inputs definition",
   "id": "7f39622544bc63d0"
  },
  {
   "metadata": {},
   "cell_type": "code",
   "source": [
    "inputs=[\n",
    "    {\n",
    "        \"id\": \"ID (name) of input field\",\n",
    "        \"value\": [\n",
    "            \"Value of input field\"\n",
    "        ]\n",
    "    }\n",
    "] #each app have certain inputs, this example should be overridden according to app, it's it you've specified"
   ],
   "id": "8b8102425c92f8c2",
   "outputs": [],
   "execution_count": null
  },
  {
   "metadata": {},
   "cell_type": "markdown",
   "source": "#### Invocation",
   "id": "625d9592a52cc9b3"
  },
  {
   "metadata": {},
   "cell_type": "code",
   "source": [
    "#you should create an app at Writer AI studio before usage\n",
    "\n",
    "if not os.getenv(\"APPLICATION_ID\"): #gneration is available for all app types, but streaming only for \"Research assistant\"\n",
    "    os.environ[\"APPLICATION_ID\"] = getpass.getpass(\"Enter ID of Application you want to use: \")\n",
    "\n",
    "application_generate_content_response = client.applications.generate_content(\n",
    "    application_id=os.getenv(\"APPLICATION_ID\"),\n",
    "    inputs=inputs\n",
    ")\n",
    "\n",
    "application_generate_content_response.suggestion"
   ],
   "id": "743bd61e8ad7f9c8",
   "outputs": [],
   "execution_count": null
  },
  {
   "metadata": {},
   "cell_type": "markdown",
   "source": "#### Streaming",
   "id": "62fd142a036210bc"
  },
  {
   "metadata": {},
   "cell_type": "code",
   "source": [
    "application_generate_content_response = client.applications.generate_content(\n",
    "    application_id=os.getenv(\"APPLICATION_ID\"),\n",
    "    inputs=inputs,\n",
    "    stream=True #only for research assistant\n",
    ")\n",
    "\n",
    "for chunk in application_generate_content_response:\n",
    "    delta = chunk.delta\n",
    "    if delta.title:\n",
    "        print(delta.title)\n",
    "    if delta.stages:\n",
    "        print(delta.stages[0].content)\n",
    "    if delta.content:\n",
    "        print(delta.content, end=\"\", flush=True)"
   ],
   "id": "65b6b14327b297b6",
   "outputs": [],
   "execution_count": null
  },
  {
   "metadata": {},
   "cell_type": "markdown",
   "source": "#### Retrieving app info",
   "id": "f4cb7ce3a02754cb"
  },
  {
   "metadata": {},
   "cell_type": "code",
   "source": [
    "application = client.applications.retrieve(\n",
    "    application_id=os.getenv(\"APPLICATION_ID\"),\n",
    ")\n",
    "\n",
    "application.to_json()"
   ],
   "id": "6df72acd7268dc9a",
   "outputs": [],
   "execution_count": null
  },
  {
   "metadata": {},
   "cell_type": "markdown",
   "source": "#### Retrieving list of apps",
   "id": "e9ae5356d0ce0bfc"
  },
  {
   "metadata": {},
   "cell_type": "code",
   "source": [
    "page = client.applications.list()\n",
    "\n",
    "for app in page.data:\n",
    "    print(app.name + \" \" + app.id)"
   ],
   "id": "3a5e6def6b411810",
   "outputs": [],
   "execution_count": null
  },
  {
   "metadata": {},
   "cell_type": "markdown",
   "source": "#### Retrieving list of apps with pagination params",
   "id": "f3098393bf88f6ce"
  },
  {
   "metadata": {},
   "cell_type": "code",
   "source": [
    "page_with_params = client.applications.list(order=\"asc\", after=os.getenv(\"APPLICATION_ID\"), limit=2)\n",
    "\n",
    "for app in page_with_params.data:\n",
    "    print(app.name + \" \" + app.id)"
   ],
   "id": "f814947d03cb8d53",
   "outputs": [],
   "execution_count": null
  }
 ],
 "metadata": {
  "kernelspec": {
   "display_name": "Python 3",
   "language": "python",
   "name": "python3"
  },
  "language_info": {
   "codemirror_mode": {
    "name": "ipython",
    "version": 2
   },
   "file_extension": ".py",
   "mimetype": "text/x-python",
   "name": "python",
   "nbconvert_exporter": "python",
   "pygments_lexer": "ipython2",
   "version": "2.7.6"
  }
 },
 "nbformat": 4,
 "nbformat_minor": 5
}
