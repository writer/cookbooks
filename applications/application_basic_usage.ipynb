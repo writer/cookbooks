{
 "cells": [
  {
   "cell_type": "markdown",
   "id": "1d1a3a05",
   "metadata": {},
   "source": [
    "The [Applications API](https://dev.writer.com/api-guides/applications) allows you to turn deployed [no-code applications](https://dev.writer.com/no-code/introduction) into microservices and tools.\n",
    "\n",
    "This cookbook shows how to use the Applications API to invoke deployed applications.\n",
    "\n",
    "## Prerequisites\n",
    "\n",
    "Before getting started, you'll need:\n",
    "\n",
    "- A [Writer AI Studio](https://app.writer.com/aistudio/signup?utm_campaign=devrel) account\n",
    "- An API key, which you can obtain by following the [API Quickstart](https://dev.writer.com/api-guides/quickstart)\n",
    "- A [no-code application deployed in Writer AI Studio](https://dev.writer.com/no-code/introduction)\n",
    "    - If you don't have an application deployed, follow [this guide](https://dev.writer.com/no-code/building-a-text-generation-app) to build and deploy a text generation application.\n",
    "    - Store the application ID for later use in this tutorial. You can find the application ID in the URL of the application in the Writer AI Studio UI. The URL structure is: `https://app.writer.com/aistudio/organization/<organization-id>/app/<app-id>`.\n",
    "\n",
    "## Setup\n",
    "\n",
    "Install the Writer SDK:\n"
   ]
  },
  {
   "cell_type": "code",
   "execution_count": null,
   "id": "c05643760cecc348",
   "metadata": {},
   "outputs": [],
   "source": [
    "%pip install -qU writer-sdk"
   ]
  },
  {
   "cell_type": "markdown",
   "id": "f3d9312e9a13f5e5",
   "metadata": {},
   "source": [
    "Next, set the `WRITER_API_KEY` environment variable. We recommend setting it in a `.env` file in the root of your project, but this tutorial will set it in an environment variable if you don't have a `.env` file."
   ]
  },
  {
   "cell_type": "code",
   "execution_count": null,
   "id": "785ea1629cdbb182",
   "metadata": {},
   "outputs": [],
   "source": [
    "import getpass\n",
    "import os\n",
    "from writerai import Writer\n",
    "\n",
    "if not os.getenv(\"WRITER_API_KEY\"):\n",
    "    os.environ[\"WRITER_API_KEY\"] = getpass.getpass(\"Enter your Writer API key: \")\n",
    "\n",
    "client = Writer()  # The Writer client automatically uses the WRITER_API_KEY environment variable to authenticate."
   ]
  },
  {
   "cell_type": "markdown",
   "id": "8608bb9b23a5498e",
   "metadata": {},
   "source": [
    "## Usage\n",
    "\n",
    "You've now initialized the Writer client and can use it to invoke deployed applications.\n",
    "\n",
    "### Inputs definition\n",
    "\n",
    "Each no-code application has a set of inputs that you need to provide when invoking the application via the API. The inputs are defined in the application's settings, which you can see via the API or in the Writer AI Studio UI.\n",
    "\n",
    "This guide shows how to get the inputs for an application via the API.\n",
    "\n",
    "Enter the ID for the application you want to use in the following cell:"
   ]
  },
  {
   "cell_type": "code",
   "execution_count": null,
   "id": "ec8390c8",
   "metadata": {},
   "outputs": [],
   "source": [
    "application_id = input(\"Enter ID of Application you want to use: \")"
   ]
  },
  {
   "cell_type": "markdown",
   "id": "6fc15f96",
   "metadata": {},
   "source": [
    "Next, retrieve the required inputs for the application:"
   ]
  },
  {
   "cell_type": "code",
   "execution_count": null,
   "id": "58c216d9",
   "metadata": {},
   "outputs": [],
   "source": [
    "application = client.applications.retrieve(application_id)\n",
    "for input_ in application.inputs:\n",
    "    print(f\"{input_.name} ({input_.input_type}): {input_.description}\")"
   ]
  },
  {
   "cell_type": "markdown",
   "id": "5ddfb377",
   "metadata": {},
   "source": [
    "Now that you know the inputs to the application, you can create an array of inputs with the values you want to use when invoking the application. The inputs array should be in the following format:\n",
    "\n",
    "```python\n",
    "inputs=[\n",
    "    {\n",
    "        \"id\": \"ID (name) of input field\",\n",
    "        \"value\": [\n",
    "            \"Value of input field\"\n",
    "        ]\n",
    "    }\n",
    "]\n",
    "```\n",
    "\n",
    "The following cell loops through the inputs in your application and creates an array of inputs with the values you want to use when invoking the application."
   ]
  },
  {
   "cell_type": "code",
   "execution_count": null,
   "id": "c060f963",
   "metadata": {},
   "outputs": [],
   "source": [
    "inputs = []\n",
    "for input_ in application.inputs:\n",
    "    inputs.append({\n",
    "        \"id\": input_.name,\n",
    "        \"value\": [input(f\"Enter value for {input_.name} (type: {input_.input_type}): \")]\n",
    "    })\n",
    "print(f\"Inputs: {inputs}\")"
   ]
  },
  {
   "cell_type": "markdown",
   "id": "7e4b086e",
   "metadata": {},
   "source": [
    "Now you can invoke the application with the inputs you've defined:"
   ]
  },
  {
   "cell_type": "code",
   "execution_count": null,
   "id": "743bd61e8ad7f9c8",
   "metadata": {},
   "outputs": [],
   "source": [
    "application_generate_content_response = client.applications.generate_content(\n",
    "    application_id=application_id,\n",
    "    inputs=inputs\n",
    ")\n",
    "\n",
    "print(application_generate_content_response.suggestion)"
   ]
  },
  {
   "cell_type": "markdown",
   "id": "62fd142a036210bc",
   "metadata": {},
   "source": [
    "### Streaming\n",
    "\n",
    "[Research Assistant](https://dev.writer.com/no-code/building-a-research-assistant-app) apps support streaming responses. To follow the next example, you'll need a deployed Research Assistant app in AI Studio. If you don't have one, you can follow [this guide](https://dev.writer.com/no-code/building-a-research-assistant-app) to build and deploy a research assistant application.\n",
    "\n",
    "Research Assistant apps take a single input, which is the user's query. The input array is structured as follows:\n",
    "\n",
    "```python\n",
    "inputs=[\n",
    "    {\"id\": \"query\", \"value\": [user_query]}\n",
    "]\n",
    "```\n",
    "\n",
    "The following cell retrieves the Research Assistant app you want to use and asks you to fill in the query for the input array."
   ]
  },
  {
   "cell_type": "code",
   "execution_count": null,
   "id": "0b84bf51",
   "metadata": {},
   "outputs": [],
   "source": [
    "research_app_id = input(\"Enter ID of Research Assistant app you want to use: \")\n",
    "research_application = client.applications.retrieve(research_app_id)\n",
    "research_inputs = [{\n",
    "        \"id\": \"query\",\n",
    "        \"value\": [input(\"Enter the research query: \")]\n",
    "    }\n",
    "]"
   ]
  },
  {
   "cell_type": "markdown",
   "id": "6e04e96f",
   "metadata": {},
   "source": [
    "Next, invoke the research assistant application with the query you've defined and stream the response by setting the `stream` parameter to `True`. The stream ends when the response is an empty string."
   ]
  },
  {
   "cell_type": "code",
   "execution_count": null,
   "id": "65b6b14327b297b6",
   "metadata": {},
   "outputs": [],
   "source": [
    "application_generate_content_response = client.applications.generate_content(\n",
    "    application_id=research_app_id,\n",
    "    inputs=research_inputs,\n",
    "    stream=True  # streaming is only available for research assistant apps\n",
    ")\n",
    "\n",
    "for chunk in application_generate_content_response:\n",
    "    delta = chunk.delta\n",
    "    if delta.title:\n",
    "        print(delta.title)\n",
    "    if delta.stages:\n",
    "        print(delta.stages[0].content)\n",
    "    if delta.content:\n",
    "        print(delta.content, end=\"\", flush=True)"
   ]
  },
  {
   "cell_type": "markdown",
   "id": "e9ae5356d0ce0bfc",
   "metadata": {},
   "source": [
    "### Retrieve a list of apps\n",
    "\n",
    "Use the `list` method to retrieve a list of all your deployed applications:"
   ]
  },
  {
   "cell_type": "code",
   "execution_count": null,
   "id": "3a5e6def6b411810",
   "metadata": {},
   "outputs": [],
   "source": [
    "page = client.applications.list()\n",
    "\n",
    "for app in page.data:\n",
    "    print(f\"{app.name} {app.id}\")"
   ]
  },
  {
   "cell_type": "markdown",
   "id": "f3098393bf88f6ce",
   "metadata": {},
   "source": [
    "The `list` method supports pagination. You can retrieve a subset of your applications by specifying the [`order`](https://dev.writer.com/api-guides/api-reference/application-api/list-applications#parameter-order), [`after`](https://dev.writer.com/api-guides/api-reference/application-api/list-applications#parameter-after), [`before`](https://dev.writer.com/api-guides/api-reference/application-api/list-applications#parameter-before), and [`limit`](https://dev.writer.com/api-guides/api-reference/application-api/list-applications#parameter-limit) parameters. You can also filter the applications by [`type`](https://dev.writer.com/api-guides/api-reference/application-api/list-applications#parameter-type).\n",
    "\n",
    "The following cell retrieves the first two applications in ascending order, after the application with the ID specified by `application_id`."
   ]
  },
  {
   "cell_type": "code",
   "execution_count": null,
   "id": "f814947d03cb8d53",
   "metadata": {},
   "outputs": [],
   "source": [
    "page_with_params = client.applications.list(order=\"asc\", after=application_id, limit=2)\n",
    "\n",
    "for app in page_with_params.data:\n",
    "    print(f\"{app.name} {app.id}\")"
   ]
  }
 ],
 "metadata": {
  "kernelspec": {
   "display_name": "Python 3 (ipykernel)",
   "language": "python",
   "name": "python3"
  },
  "language_info": {
   "codemirror_mode": {
    "name": "ipython",
    "version": 3
   },
   "file_extension": ".py",
   "mimetype": "text/x-python",
   "name": "python",
   "nbconvert_exporter": "python",
   "pygments_lexer": "ipython3",
   "version": "3.13.2"
  }
 },
 "nbformat": 4,
 "nbformat_minor": 5
}
