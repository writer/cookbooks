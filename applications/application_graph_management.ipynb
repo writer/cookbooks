{
 "cells": [
  {
   "cell_type": "markdown",
   "id": "e8aa907f876bb781",
   "metadata": {},
   "source": [
    "# Knowledge Graph management for no-code applications\n",
    "\n",
    "This notebook shows how to attach a Knowledge Graph to a [no-code chat application](https://dev.writer.com/no-code/building-a-chat-app).\n",
    "\n",
    "## Prerequisites\n",
    "\n",
    "Before getting started, you'll need:\n",
    "\n",
    "- A [Writer AI Studio](https://app.writer.com/register) account\n",
    "- An API key, which you can obtain by following the [API Quickstart](https://dev.writer.com/api-guides/quickstart)\n",
    "- A [no-code chat application](https://dev.writer.com/no-code/building-a-chat-app) deployed in Writer AI Studio\n",
    "    - Only chat applications support attached Knowledge Graphs\n",
    "    - If you don't have an application deployed, follow [this guide](https://dev.writer.com/no-code/building-a-chat-app) to build and deploy a chat application.\n",
    "    - Store the application ID for later use in this tutorial. You can find the application ID in the URL of the application in the Writer AI Studio UI. The URL structure is: `https://app.writer.com/aistudio/organization/<organization-id>/app/<app-id>`.\n",
    "- A [Knowledge Graph](https://dev.writer.com/knowledge-graphs/introduction)\n",
    "    - If you don't have an existing Knowledge Graph, you can follow the steps [in this cookbook](https://github.com/writer/cookbooks/blob/main/knowledge_graph/knowledge_graph.ipynb)\n",
    "\n",
    "## Setup\n",
    "\n",
    "Install the Writer SDK:"
   ]
  },
  {
   "cell_type": "code",
   "execution_count": null,
   "id": "c05643760cecc348",
   "metadata": {},
   "outputs": [],
   "source": [
    "%pip install -qU writer-sdk"
   ]
  },
  {
   "cell_type": "markdown",
   "id": "f3d9312e9a13f5e5",
   "metadata": {},
   "source": [
    "Next, set the `WRITER_API_KEY` environment variable. We recommend setting it in a `.env` file in the root of your project, but this tutorial will set it in an environment variable if you don't have a `.env` file."
   ]
  },
  {
   "cell_type": "code",
   "execution_count": null,
   "id": "785ea1629cdbb182",
   "metadata": {},
   "outputs": [],
   "source": [
    "import getpass\n",
    "import os\n",
    "from writerai import Writer\n",
    "\n",
    "if not os.getenv(\"WRITER_API_KEY\"):\n",
    "    os.environ[\"WRITER_API_KEY\"] = getpass.getpass(\"Enter your Writer API key: \")\n",
    "\n",
    "client = Writer()"
   ]
  },
  {
   "cell_type": "markdown",
   "id": "8608bb9b23a5498e",
   "metadata": {},
   "source": [
    "## Usage"
   ]
  },
  {
   "cell_type": "markdown",
   "id": "f1f2cf5647425c68",
   "metadata": {},
   "source": [
    "### List all Knowledge Graphs\n",
    "\n",
    "In this cookbook, you attach a Knowledge Graph to a no-code application. You will need the ID of a Knowledge Graph to attach to your application. \n",
    "\n",
    "To see a list of your existing Knowledge Graphs and their IDs, run this code:"
   ]
  },
  {
   "cell_type": "code",
   "execution_count": null,
   "id": "5a269d42",
   "metadata": {},
   "outputs": [],
   "source": [
    "kgs = client.graphs.list()\n",
    "for kg in kgs:\n",
    "    print(f\"{kg.id}: {kg.name}\")\n"
   ]
  },
  {
   "cell_type": "markdown",
   "id": "3f6148fa",
   "metadata": {},
   "source": [
    "### List Knowledge Graphs attached to an application\n",
    "\n",
    "The following code lists all Knowledge Graphs attached to a chat application. Enter the application ID when prompted."
   ]
  },
  {
   "cell_type": "code",
   "execution_count": null,
   "id": "83436249b52de650",
   "metadata": {},
   "outputs": [],
   "source": [
    "chat_application_id = input(\"Enter ID of chat application: \")\n",
    "application_graphs = client.applications.graphs.list(\n",
    "    application_id=chat_application_id,\n",
    ")\n",
    "\n",
    "print(\"Knowledge Graphs attached to application:\")\n",
    "for graph_id in application_graphs.graph_ids:\n",
    "    print(graph_id)\n"
   ]
  },
  {
   "cell_type": "markdown",
   "id": "d48153492050c9ed",
   "metadata": {},
   "source": [
    "### Update the list of Knowledge Graphs attached to a chat application\n",
    "\n",
    "To update the list of Knowledge Graphs attached to a chat application, you can use the `application.graphs.update` method and send the new list of Knowledge Graphs you'd like attached.\n",
    "\n",
    "The following code attaches a Knowledge Graph to a chat application. It prompts you to enter the Knowledge Graph ID you'd like to attach, and then adds it to the list of already attached Knowledge Graphs. Then it makes an API request to update the application's Knowledge Graphs."
   ]
  },
  {
   "cell_type": "code",
   "execution_count": null,
   "id": "fbf8fa2dcb1338c6",
   "metadata": {},
   "outputs": [],
   "source": [
    "graph_id = input(\"Enter ID of Graph you want to link with app: \")\n",
    "application_graphs.graph_ids += [graph_id]\n",
    "\n",
    "response = client.applications.graphs.update(\n",
    "    application_id=chat_application_id,\n",
    "    graph_ids=application_graphs.graph_ids,\n",
    ")\n",
    "\n",
    "print(\"Knowledge Graphs attached to application:\")\n",
    "for graph_id in response.graph_ids:\n",
    "    print(graph_id)"
   ]
  },
  {
   "cell_type": "markdown",
   "id": "087c3e07",
   "metadata": {},
   "source": [
    "Follow the same pattern to remove Knowledge Graphs from the application.\n",
    "\n",
    "To remove all associated Knowledge Graphs from an application, make an `update` API call and set the list of Knowledge Graphs attached to the application to an empty array (`[]`)."
   ]
  }
 ],
 "metadata": {
  "kernelspec": {
   "display_name": "Python 3",
   "language": "python",
   "name": "python3"
  },
  "language_info": {
   "codemirror_mode": {
    "name": "ipython",
    "version": 2
   },
   "file_extension": ".py",
   "mimetype": "text/x-python",
   "name": "python",
   "nbconvert_exporter": "python",
   "pygments_lexer": "ipython2",
   "version": "2.7.6"
  }
 },
 "nbformat": 4,
 "nbformat_minor": 5
}
