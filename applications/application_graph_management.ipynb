{
 "cells": [
  {
   "metadata": {},
   "cell_type": "markdown",
   "source": "## Setup",
   "id": "e8aa907f876bb781"
  },
  {
   "metadata": {},
   "cell_type": "code",
   "source": "%pip install -qU writer-sdk",
   "id": "c05643760cecc348",
   "outputs": [],
   "execution_count": null
  },
  {
   "metadata": {},
   "cell_type": "markdown",
   "source": [
    "### Initialization\n",
    "\n",
    "Sign up for [Writer AI Studio](https://app.writer.com/aistudio/signup?utm_campaign=devrel) and follow this [Quickstart](https://dev.writer.com/api-guides/quickstart) to obtain an API key. Then, set the WRITER_API_KEY environment variable:"
   ],
   "id": "f3d9312e9a13f5e5"
  },
  {
   "metadata": {},
   "cell_type": "code",
   "source": [
    "import getpass\n",
    "import os\n",
    "from writerai import Writer\n",
    "\n",
    "if not os.getenv(\"WRITER_API_KEY\"):\n",
    "    os.environ[\"WRITER_API_KEY\"] = getpass.getpass(\"Enter your Writer API key: \")\n",
    "\n",
    "client = Writer()"
   ],
   "id": "785ea1629cdbb182",
   "outputs": [],
   "execution_count": null
  },
  {
   "metadata": {},
   "cell_type": "markdown",
   "source": "### Usage",
   "id": "8608bb9b23a5498e"
  },
  {
   "metadata": {},
   "cell_type": "markdown",
   "source": "#### Obtaining",
   "id": "f1f2cf5647425c68"
  },
  {
   "metadata": {},
   "cell_type": "code",
   "source": [
    "if not os.getenv(\"CHAT_APPLICATION_ID\"):\n",
    "    os.environ[\"CHAT_APPLICATION_ID\"] = getpass.getpass(\"Enter ID of Application you want to receive graphs linked with: \") #Now only chat apps support graphs usage\n",
    "\n",
    "application_graphs_response = client.applications.graphs.list( #Code will not work until SDK 2.0 release\n",
    "    application_id=os.getenv(\"CHAT_APPLICATION_ID\"),\n",
    ")\n",
    "\n",
    "application_graphs_response.graph_ids"
   ],
   "id": "83436249b52de650",
   "outputs": [],
   "execution_count": null
  },
  {
   "metadata": {},
   "cell_type": "markdown",
   "source": "#### Update",
   "id": "d48153492050c9ed"
  },
  {
   "metadata": {},
   "cell_type": "code",
   "source": [
    "if not os.getenv(\"GRAPH_ID\"):\n",
    "    os.environ[\"GRAPH_ID\"] = getpass.getpass(\"Enter ID of Graph you want to link with app: \") #Now only chat apps support graphs usage\n",
    "\n",
    "application_graphs_response.graph_ids += [os.getenv(\"GRAPH_ID\")]\n",
    "\n",
    "application_graphs_response = client.applications.graphs.update( #Code will not work until SDK 2.0 release\n",
    "    application_id=os.getenv(\"CHAT_APPLICATION_ID\"),\n",
    "    graph_ids=application_graphs_response.graph_ids,\n",
    ")\n",
    "\n",
    "application_graphs_response.graph_ids"
   ],
   "id": "fbf8fa2dcb1338c6",
   "outputs": [],
   "execution_count": null
  }
 ],
 "metadata": {
  "kernelspec": {
   "display_name": "Python 3",
   "language": "python",
   "name": "python3"
  },
  "language_info": {
   "codemirror_mode": {
    "name": "ipython",
    "version": 2
   },
   "file_extension": ".py",
   "mimetype": "text/x-python",
   "name": "python",
   "nbconvert_exporter": "python",
   "pygments_lexer": "ipython2",
   "version": "2.7.6"
  }
 },
 "nbformat": 4,
 "nbformat_minor": 5
}
