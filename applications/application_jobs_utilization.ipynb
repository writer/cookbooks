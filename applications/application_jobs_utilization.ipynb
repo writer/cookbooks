{
 "cells": [
  {
   "metadata": {},
   "cell_type": "markdown",
   "source": "create operation, get (single/list/pagination) operations, retry operation. Get list graphs/get list graphs pagination",
   "id": "4862ef81ca07e90d"
  }
 ],
 "metadata": {
  "kernelspec": {
   "display_name": "Python 3",
   "language": "python",
   "name": "python3"
  },
  "language_info": {
   "codemirror_mode": {
    "name": "ipython",
    "version": 2
   },
   "file_extension": ".py",
   "mimetype": "text/x-python",
   "name": "python",
   "nbconvert_exporter": "python",
   "pygments_lexer": "ipython2",
   "version": "2.7.6"
  }
 },
 "nbformat": 4,
 "nbformat_minor": 5
}
