{
 "cells": [
  {
   "cell_type": "markdown",
   "id": "e8aa907f876bb781",
   "metadata": {},
   "source": [
    "# Manage asynchronous application jobs\n",
    "\n",
    "With the Writer API, you can invoke no-code applications asynchronously and in batches using the [async applications endpoints](https://dev.writer.com/api-guides/async-applications).\n",
    "    \n",
    "This notebook shows how to create, retrieve, and retry asynchronous no-code application jobs. \n",
    "\n",
    "## Prerequisites\n",
    "\n",
    "Before getting started, you'll need:\n",
    "\n",
    "- A [Writer AI Studio](https://app.writer.com/aistudio/signup?utm_campaign=devrel) account\n",
    "- An API key, which you can obtain by following the [API Quickstart](https://dev.writer.com/api-guides/quickstart)\n",
    "- A [no-code application](https://dev.writer.com/no-code/building-a-chat-app) deployed in Writer AI Studio\n",
    "    - If you don't have an application deployed, follow [this guide](https://dev.writer.com/no-code/building-a-chat-app) to build and deploy a chat application.\n",
    "    - Store the application ID for later use in this tutorial. You can find the application ID in the URL of the application in the Writer AI Studio UI. The URL structure is: `https://app.writer.com/aistudio/organization/<organization-id>/app/<app-id>`.\n",
    "\n",
    "## Setup\n",
    "\n",
    "Install the Writer SDK:"
   ]
  },
  {
   "cell_type": "code",
   "execution_count": null,
   "id": "c05643760cecc348",
   "metadata": {},
   "outputs": [],
   "source": [
    "%pip install -qU writer-sdk"
   ]
  },
  {
   "cell_type": "markdown",
   "id": "f3d9312e9a13f5e5",
   "metadata": {},
   "source": [
    "Next, set the `WRITER_API_KEY` environment variable. We recommend setting it in a `.env` file in the root of your project, but this tutorial will set it in an environment variable if you don't have a `.env` file."
   ]
  },
  {
   "cell_type": "code",
   "execution_count": null,
   "id": "785ea1629cdbb182",
   "metadata": {},
   "outputs": [],
   "source": [
    "import getpass\n",
    "import os\n",
    "from writerai import Writer\n",
    "\n",
    "if not os.getenv(\"WRITER_API_KEY\"):\n",
    "    os.environ[\"WRITER_API_KEY\"] = getpass.getpass(\"Enter your Writer API key: \")\n",
    "\n",
    "client = Writer()"
   ]
  },
  {
   "cell_type": "markdown",
   "id": "8608bb9b23a5498e",
   "metadata": {},
   "source": [
    "## Usage\n",
    "\n",
    "The following code asks you to enter your application ID and then retrieves the application metadata, including the required application inputs. It then asks you to enter the values for the application inputs, so it can later create an async job with those values."
   ]
  },
  {
   "cell_type": "code",
   "execution_count": null,
   "id": "b4cfa72e",
   "metadata": {},
   "outputs": [],
   "source": [
    "application_id = input(\"Enter your application ID: \")\n",
    "application = client.applications.retrieve(application_id=application_id)\n",
    "inputs = []\n",
    "for input_ in application.inputs:\n",
    "    value = input(\"Enter the value for input {}: \".format(input_.name))\n",
    "    inputs.append({\"id\": input_.name, \"value\": [value]})"
   ]
  },
  {
   "cell_type": "markdown",
   "id": "75487d93cbd38c68",
   "metadata": {},
   "source": [
    "### Create an asynchronous job\n",
    "\n",
    "The code below takes the inputs you defined above for your application and creates an async job."
   ]
  },
  {
   "cell_type": "code",
   "execution_count": null,
   "id": "206af1d3a664c6e",
   "metadata": {},
   "outputs": [],
   "source": [
    "job = client.applications.jobs.create(\n",
    "    application_id=application_id,\n",
    "    inputs=inputs\n",
    ")\n",
    "\n",
    "print(f\"Job ID: {job.id}. Status: {job.status}\")"
   ]
  },
  {
   "cell_type": "markdown",
   "id": "bea277fe5f85ae2",
   "metadata": {},
   "source": [
    "### Retrieve a job by ID\n",
    "\n",
    "To retrieve a job by its ID, call the `applications.jobs.retrieve` function and pass in the job ID.\n",
    "\n",
    "You can see if the job has finished by inspecting the `status` field. Once the job is complete, the status will be `completed` and the results will be in the `job.data` field."
   ]
  },
  {
   "cell_type": "code",
   "execution_count": null,
   "id": "344fb7172982e215",
   "metadata": {},
   "outputs": [],
   "source": [
    "job_by_id = client.applications.jobs.retrieve(\n",
    "    job_id=job.id,\n",
    ")\n",
    "\n",
    "print(job.status)\n",
    "if job.status == \"completed\":\n",
    "    print(job.data.suggestion)"
   ]
  },
  {
   "cell_type": "markdown",
   "id": "9bc1ef4b4f3ccd26",
   "metadata": {},
   "source": [
    "### Retrieve all jobs for an application\n",
    "\n",
    "You can retrieve all jobs for an application with the `applications.jobs.list` method. The result is an automatically paginated iterator that will yield the next page of results as you iterate."
   ]
  },
  {
   "cell_type": "code",
   "execution_count": null,
   "id": "23e5c97a8b855e0e",
   "metadata": {},
   "outputs": [],
   "source": [
    "page = client.applications.jobs.list(\n",
    "    application_id=application_id,\n",
    ")\n",
    "\n",
    "for job in page.result:\n",
    "    print(f\"{job.id}: {job.status}\")"
   ]
  },
  {
   "cell_type": "markdown",
   "id": "f09f443d068b1537",
   "metadata": {},
   "source": [
    "You can customize pagination with the `offset` and `limit` parameters. The code sample below demonstrates offsetting the results by 1 and limiting the results to 1 item per page."
   ]
  },
  {
   "cell_type": "code",
   "execution_count": null,
   "id": "653cdfa8d32bd24b",
   "metadata": {},
   "outputs": [],
   "source": [
    "page_pagination = client.applications.jobs.list(\n",
    "    application_id=application_id,\n",
    "    offset=1,\n",
    "    limit=1,\n",
    ")\n",
    "\n",
    "for job in page_pagination.result:\n",
    "    print(f\"{job.id}: {job.status}\")"
   ]
  },
  {
   "cell_type": "markdown",
   "id": "627268053b729d24",
   "metadata": {},
   "source": [
    "## Retry a failed job\n",
    "\n",
    "If a job fails, you can retry it by calling the `applications.jobs.retry` method and passing in the failed job ID.\n",
    "\n",
    "The following code creates a job that will fail."
   ]
  },
  {
   "cell_type": "code",
   "execution_count": null,
   "id": "efea27a58f584427",
   "metadata": {},
   "outputs": [],
   "source": [
    "failed_job = client.applications.jobs.create(\n",
    "    application_id=application_id,\n",
    "    inputs=[{\"id\" :\"wrong_name\", \"value\": [\"Write a report on the benefits of using AI in research\"]}],\n",
    ")\n",
    "print(failed_job.id)"
   ]
  },
  {
   "cell_type": "markdown",
   "id": "ce08f2e2",
   "metadata": {},
   "source": [
    "The next code sample retries the failed job with the `retry` method."
   ]
  },
  {
   "cell_type": "code",
   "execution_count": null,
   "id": "a7fef45c",
   "metadata": {},
   "outputs": [],
   "source": [
    "\n",
    "response = client.applications.jobs.retry(\n",
    "    job_id=failed_job.id,\n",
    ")\n",
    "\n",
    "print(response)"
   ]
  }
 ],
 "metadata": {
  "kernelspec": {
   "display_name": "Python 3 (ipykernel)",
   "language": "python",
   "name": "python3"
  },
  "language_info": {
   "codemirror_mode": {
    "name": "ipython",
    "version": 3
   },
   "file_extension": ".py",
   "mimetype": "text/x-python",
   "name": "python",
   "nbconvert_exporter": "python",
   "pygments_lexer": "ipython3",
   "version": "3.13.2"
  }
 },
 "nbformat": 4,
 "nbformat_minor": 5
}
