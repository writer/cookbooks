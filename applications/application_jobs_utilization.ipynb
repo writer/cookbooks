{
 "cells": [
  {
   "metadata": {},
   "cell_type": "markdown",
   "source": "## Setup",
   "id": "e8aa907f876bb781"
  },
  {
   "metadata": {},
   "cell_type": "code",
   "source": "%pip install -qU writer-sdk",
   "id": "c05643760cecc348",
   "outputs": [],
   "execution_count": null
  },
  {
   "metadata": {},
   "cell_type": "markdown",
   "source": [
    "### Initialization\n",
    "\n",
    "Sign up for [Writer AI Studio](https://app.writer.com/aistudio/signup?utm_campaign=devrel) and follow this [Quickstart](https://dev.writer.com/api-guides/quickstart) to obtain an API key. Then, set the WRITER_API_KEY environment variable:"
   ],
   "id": "f3d9312e9a13f5e5"
  },
  {
   "metadata": {},
   "cell_type": "code",
   "source": [
    "import getpass\n",
    "import os\n",
    "from writerai import Writer\n",
    "\n",
    "if not os.getenv(\"WRITER_API_KEY\"):\n",
    "    os.environ[\"WRITER_API_KEY\"] = getpass.getpass(\"Enter your Writer API key: \")\n",
    "\n",
    "client = Writer()"
   ],
   "id": "785ea1629cdbb182",
   "outputs": [],
   "execution_count": null
  },
  {
   "metadata": {},
   "cell_type": "markdown",
   "source": "### Usage",
   "id": "8608bb9b23a5498e"
  },
  {
   "metadata": {},
   "cell_type": "markdown",
   "source": "#### Creation",
   "id": "75487d93cbd38c68"
  },
  {
   "metadata": {},
   "cell_type": "code",
   "source": [
    "if not os.getenv(\"RESEARCH_APPLICATION_ID\"): #other app types also possible, research type just for example\n",
    "    os.environ[\"RESEARCH_APPLICATION_ID\"] = getpass.getpass(\"Enter your Research Application ID: \")\n",
    "\n",
    "job = client.applications.jobs.create(\n",
    "    application_id=os.getenv(\"RESEARCH_APPLICATION_ID\"),\n",
    "    inputs=[{\"id\" :\"query\", \"value\": [\"Write a report on the benefits of using AI in research\"]}],\n",
    ")\n",
    "\n",
    "job"
   ],
   "id": "206af1d3a664c6e",
   "outputs": [],
   "execution_count": null
  },
  {
   "metadata": {},
   "cell_type": "markdown",
   "source": "#### Retrieving job by ID",
   "id": "bea277fe5f85ae2"
  },
  {
   "metadata": {},
   "cell_type": "code",
   "outputs": [],
   "execution_count": null,
   "source": [
    "job_by_id = client.applications.jobs.retrieve(\n",
    "    job_id=job.id,\n",
    ")\n",
    "\n",
    "job_by_id"
   ],
   "id": "344fb7172982e215"
  },
  {
   "metadata": {},
   "cell_type": "markdown",
   "source": "#### Retrieving list of jobs",
   "id": "9bc1ef4b4f3ccd26"
  },
  {
   "metadata": {},
   "cell_type": "code",
   "outputs": [],
   "execution_count": null,
   "source": [
    "new_job = client.applications.jobs.create(\n",
    "    application_id=os.getenv(\"RESEARCH_APPLICATION_ID\"),\n",
    "    inputs=[{\"id\" :\"query\", \"value\": [\"Write a report on the benefits of using AI in research\"]}],\n",
    ") #creating one more job for better example\n",
    "\n",
    "print(new_job)\n",
    "\n",
    "page = client.applications.jobs.list(\n",
    "    application_id=os.getenv(\"RESEARCH_APPLICATION_ID\"),\n",
    ")\n",
    "\n",
    "for job in page.result:\n",
    "    print(job)"
   ],
   "id": "23e5c97a8b855e0e"
  },
  {
   "metadata": {},
   "cell_type": "markdown",
   "source": "#### Retrieving paginated list of jobs",
   "id": "f09f443d068b1537"
  },
  {
   "metadata": {},
   "cell_type": "code",
   "outputs": [],
   "execution_count": null,
   "source": [
    "page_pagination = client.applications.jobs.list(\n",
    "    application_id=os.getenv(\"RESEARCH_APPLICATION_ID\"),\n",
    "    offset=1,\n",
    "    limit=1,\n",
    ")\n",
    "\n",
    "for job in page_pagination.result:\n",
    "    print(job)"
   ],
   "id": "653cdfa8d32bd24b"
  },
  {
   "metadata": {},
   "cell_type": "markdown",
   "source": "#### Retrying failed job",
   "id": "627268053b729d24"
  },
  {
   "metadata": {},
   "cell_type": "code",
   "outputs": [],
   "execution_count": null,
   "source": [
    "failed_job = client.applications.jobs.create(\n",
    "    application_id=os.getenv(\"RESEARCH_APPLICATION_ID\"),\n",
    "    inputs=[{\"id\" :\"wrong_name\", \"value\": [\"Write a report on the benefits of using AI in research\"]}],\n",
    ") #creating a job which will fail\n",
    "\n",
    "response = client.applications.jobs.retry(\n",
    "    job_id=failed_job.id,\n",
    ")\n",
    "\n",
    "response"
   ],
   "id": "efea27a58f584427"
  }
 ],
 "metadata": {
  "kernelspec": {
   "display_name": "Python 3",
   "language": "python",
   "name": "python3"
  },
  "language_info": {
   "codemirror_mode": {
    "name": "ipython",
    "version": 2
   },
   "file_extension": ".py",
   "mimetype": "text/x-python",
   "name": "python",
   "nbconvert_exporter": "python",
   "pygments_lexer": "ipython2",
   "version": "2.7.6"
  }
 },
 "nbformat": 4,
 "nbformat_minor": 5
}
