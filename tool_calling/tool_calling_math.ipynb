{
 "cells": [
  {
   "cell_type": "markdown",
   "metadata": {},
   "source": [
    "# Using tool calling to do math\n",
    "One great use of tool calling is to perform math operations, which LLMs are not typically good at doing on their own.\n",
    "\n",
    "To get started, first install dependencies."
   ]
  },
  {
   "cell_type": "code",
   "execution_count": null,
   "metadata": {},
   "outputs": [],
   "source": [
    "%pip install writer-sdk -q"
   ]
  },
  {
   "cell_type": "markdown",
   "metadata": {},
   "source": [
    "### Initialization\n",
    "\n",
    "The cell below performs the initialization required for this notebook including the creation of an instance of the `Writer` object to interact with the LLM.\n",
    "\n",
    "To create a Writer client object, you need an API key. [You can sign up for one for free](https://app.writer.com/register). \n",
    "\n",
    "Once you have an API key, we recommend that you store it as an environment variable in a `.env` file like so:\n",
    "\n",
    "```\n",
    "WRITER_API_KEY=\"{Your Writer API key goes here}\"\n",
    "```\n",
    "\n",
    "When you instantiate the client with `client = Writer()`, the newly-created object will automatically look for an environment variable named `WRITER_API_KEY` and will complete the instantiation if an only if `WRITER_API_KEY` has been defined. This notebook uses the [python-dotenv] library to automatically define environment variables based on the contents of an `.env` file in the same directory.\n",
    "\n",
    "The `Writer()` initializer method also has an `api_key` parameter that you can use like this...\n",
    "\n",
    "```\n",
    "client = Writer(api_key=\"{Your Writer API key goes here}\")\n",
    "```\n",
    "\n",
    "...but we strongly encourage you not to leave API keys in your source code."
   ]
  },
  {
   "cell_type": "code",
   "execution_count": null,
   "metadata": {},
   "outputs": [],
   "source": [
    "from writerai import Writer\n",
    "import math\n",
    "\n",
    "# Load environment variables from .env file\n",
    "%reload_ext dotenv\n",
    "%dotenv\n",
    "\n",
    "client = Writer()"
   ]
  },
  {
   "cell_type": "markdown",
   "metadata": {},
   "source": [
    "### Define your math functions\n",
    "\n",
    "Next, define your math functions. Here we are defining a function to calculate the square root and a function to calculate factorials."
   ]
  },
  {
   "cell_type": "code",
   "execution_count": null,
   "metadata": {},
   "outputs": [],
   "source": [
    "# Define the math functions\n",
    "def calculate_square_root(number):\n",
    "    return math.sqrt(number)\n",
    "\n",
    "def calculate_factorial(number):\n",
    "    return math.factorial(number)"
   ]
  },
  {
   "cell_type": "markdown",
   "metadata": {},
   "source": [
    "### Create a `tools` array\n",
    "Next, create a JSON schema for each function inside of a `tools` array. Each function should have:\n",
    "\n",
    "- A `type` of `function`\n",
    "- A `name`, a `description`\n",
    "- A `parameters` object\n",
    "  - In the case of these two functions, the `parameters` object should have a `type` of `object`, a `properties` object with a single parameter called `number` defined as an `integer`, and a `required` array with the name of the parameter.\n"
   ]
  },
  {
   "cell_type": "code",
   "execution_count": null,
   "metadata": {},
   "outputs": [],
   "source": [
    "# Define the tools\n",
    "tools = [\n",
    "    {\n",
    "        \"type\": \"function\",\n",
    "        \"function\": {\n",
    "            \"name\": \"calculate_square_root\",\n",
    "            \"description\": \"Calculate the square root of a number\",\n",
    "            \"parameters\": {\n",
    "                \"type\": \"object\",\n",
    "                \"properties\": {\n",
    "                    \"number\": {\"type\": \"number\", \"description\": \"The number to calculate the square root of\"}\n",
    "                },\n",
    "                \"required\": [\"number\"]\n",
    "            }\n",
    "        }\n",
    "    },\n",
    "    {\n",
    "        \"type\": \"function\",\n",
    "        \"function\": {\n",
    "            \"name\": \"calculate_factorial\",\n",
    "            \"description\": \"Calculate the factorial of a number\",\n",
    "            \"parameters\": {\n",
    "                \"type\": \"object\",\n",
    "                \"properties\": {\n",
    "                    \"number\": {\"type\": \"integer\", \"description\": \"The number to calculate the factorial of\"}\n",
    "                },\n",
    "                \"required\": [\"number\"]\n",
    "            }\n",
    "        }\n",
    "    }\n",
    "]"
   ]
  },
  {
   "cell_type": "markdown",
   "metadata": {},
   "source": [
    "### Send the `tools` array with your messages\n",
    "Pass the `tools` array along with the `messages` array to the `chat` method of the SDK. The `tool_choice` parameter is set to `auto`, which means that the model will decide which of the tools you've defined to use, if any. Feel free to edit the contents of the `messages` array to a different math problem.\n",
    "\n",
    "After you have a response, you'll append the response message (accessed via `response.choices[0].message`) to the `messages` array."
   ]
  },
  {
   "cell_type": "code",
   "execution_count": null,
   "metadata": {},
   "outputs": [],
   "source": [
    "# Set up the conversation\n",
    "messages = [{\"role\": \"user\", \"content\": \"What's the square root of 16 and the factorial of 5?\"}]\n",
    "\n",
    "# Send the messages and tools to the model\n",
    "response = client.chat.chat(\n",
    "    model=\"palmyra-x-004\", messages=messages, tools=tools, tool_choice=\"auto\", stream=False\n",
    ")\n",
    "\n",
    "# Append the response message to the messages array\n",
    "response_message = response.choices[0].message\n",
    "messages.append(response_message)\n",
    "\n",
    "print(f\"Tool call response message object:\\n{response_message}\\n\")"
   ]
  },
  {
   "cell_type": "markdown",
   "metadata": {},
   "source": [
    "### Process the response and handle tool calls\n",
    "When the model decides to use a tool, it will add a `tool_calls` array to the response message. Loop through the `tool_calls` array of the response message and call the appropriate function. \n",
    "\n",
    "Then, append the result of the function to the `messages` array. This message should have the following structure:\n",
    "\n",
    "- `role`: `\"tool\"`\n",
    "- `tool_call_id`: id of the tool call, accessed via `tool_call.id`\n",
    "- `name`: name of the function that was called, accessed via `tool_call.function.name`\n",
    "- `content`: the result of the function"
   ]
  },
  {
   "cell_type": "code",
   "execution_count": null,
   "metadata": {},
   "outputs": [],
   "source": [
    "# Process the response and handle tool calls\n",
    "tool_calls = response_message.tool_calls\n",
    "for tool_call in tool_calls:\n",
    "    if tool_call.function.name == \"calculate_square_root\":\n",
    "        number = eval(tool_call.function.arguments)[\"number\"]\n",
    "        function_response = calculate_square_root(number)\n",
    "    elif tool_call.function.name == \"calculate_factorial\":\n",
    "        number = eval(tool_call.function.arguments)[\"number\"]\n",
    "        function_response = calculate_factorial(number)\n",
    "    \n",
    "    messages.append(\n",
    "        {\n",
    "            \"role\": \"tool\",\n",
    "            \"tool_call_id\": tool_call.id,\n",
    "            \"name\": tool_call.function.name,\n",
    "            \"content\": str(function_response),\n",
    "        }\n",
    "    )"
   ]
  },
  {
   "cell_type": "markdown",
   "metadata": {},
   "source": [
    "### Get the final response\n",
    "Finally, get the final response from the model. It should be the answer to the math problem(s) you asked the model."
   ]
  },
  {
   "cell_type": "code",
   "execution_count": null,
   "metadata": {},
   "outputs": [],
   "source": [
    "final_response = client.chat.chat(\n",
    "        model=\"palmyra-x-004\", messages=messages, stream=False\n",
    "    )\n",
    "\n",
    "print(f\"Final response: \\n{final_response.choices[0].message.content}\\n\")"
   ]
  },
  {
   "cell_type": "markdown",
   "metadata": {},
   "source": [
    "That's it! You've successfully used tool calling to perform math operations. To learn more about tool calling, check out the [tool calling guide](https://dev.writer.com/api-guides/tool-calling) on the Writer docs."
   ]
  }
 ],
 "metadata": {
  "kernelspec": {
   "display_name": "Python 3 (ipykernel)",
   "language": "python",
   "name": "python3"
  },
  "language_info": {
   "codemirror_mode": {
    "name": "ipython",
    "version": 3
   },
   "file_extension": ".py",
   "mimetype": "text/x-python",
   "name": "python",
   "nbconvert_exporter": "python",
   "pygments_lexer": "ipython3",
   "version": "3.12.3"
  }
 },
 "nbformat": 4,
 "nbformat_minor": 4
}
