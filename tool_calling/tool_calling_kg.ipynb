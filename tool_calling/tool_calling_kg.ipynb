{
 "cells": [
  {
   "metadata": {},
   "cell_type": "markdown",
   "source": "## Setup",
   "id": "e8aa907f876bb781"
  },
  {
   "metadata": {},
   "cell_type": "code",
   "source": "%pip install -qU writer-sdk",
   "id": "c05643760cecc348",
   "outputs": [],
   "execution_count": null
  },
  {
   "metadata": {},
   "cell_type": "markdown",
   "source": [
    "### Initialization\n",
    "\n",
    "Sign up for [Writer AI Studio](https://app.writer.com/aistudio/signup?utm_campaign=devrel) and follow this [Quickstart](https://dev.writer.com/api-guides/quickstart) to obtain an API key. Then, set the WRITER_API_KEY environment variable:"
   ],
   "id": "f3d9312e9a13f5e5"
  },
  {
   "metadata": {},
   "cell_type": "code",
   "source": [
    "import getpass\n",
    "import os\n",
    "from writerai import Writer\n",
    "\n",
    "if not os.getenv(\"WRITER_API_KEY\"):\n",
    "    os.environ[\"WRITER_API_KEY\"] = getpass.getpass(\"Enter your Writer API key: \")\n",
    "\n",
    "client = Writer()"
   ],
   "id": "785ea1629cdbb182",
   "outputs": [],
   "execution_count": null
  },
  {
   "metadata": {},
   "cell_type": "markdown",
   "source": "### Usage",
   "id": "8608bb9b23a5498e"
  },
  {
   "metadata": {},
   "cell_type": "markdown",
   "source": "#### Definition",
   "id": "f1f2cf5647425c68"
  },
  {
   "metadata": {},
   "cell_type": "code",
   "source": [
    "if not os.getenv(\"GRAPH_ID\"):\n",
    "    os.environ[\"GRAPH_ID\"] = getpass.getpass(\"Enter ID of Graph you want to use as tool: \")\n",
    "\n",
    "tools = [\n",
    "    {\n",
    "        \"type\": \"graph\",\n",
    "        \"function\": {\n",
    "            \"description\": \"Prescribing info\",\n",
    "            \"graph_ids\": [\n",
    "                os.getenv(\"GRAPH_ID\") #possible to use multiple ids\n",
    "            ],\n",
    "            \"subqueries\": True\n",
    "        }\n",
    "    }\n",
    "]"
   ],
   "id": "83436249b52de650",
   "outputs": [],
   "execution_count": null
  },
  {
   "metadata": {},
   "cell_type": "markdown",
   "source": "#### Invocation",
   "id": "d48153492050c9ed"
  },
  {
   "metadata": {},
   "cell_type": "code",
   "source": [
    "response = client.chat.chat(\n",
    "    model=\"palmyra-x-004\",\n",
    "    messages=[{\"role\": \"user\", \"content\": \"Which adverse reactions BAVENCIO has?\"}],\n",
    "    tools=tools,\n",
    "    tool_choice=\"auto\"\n",
    ")\n",
    "\n",
    "response.choices[0].message.content"
   ],
   "id": "fbf8fa2dcb1338c6",
   "outputs": [],
   "execution_count": null
  },
  {
   "metadata": {},
   "cell_type": "code",
   "source": "response.choices[0].message.graph_data",
   "id": "a479ce5105a38dcb",
   "outputs": [],
   "execution_count": null
  },
  {
   "metadata": {},
   "cell_type": "markdown",
   "source": "#### Streaming",
   "id": "208c02882eaeab4e"
  },
  {
   "metadata": {},
   "cell_type": "code",
   "source": [
    "response_stream = client.chat.chat(\n",
    "    model=\"palmyra-x-004\",\n",
    "    messages=[{\"role\": \"user\", \"content\": \"Which adverse reactions BAVENCIO has?\"}],\n",
    "    tools=tools,\n",
    "    tool_choice=\"auto\",\n",
    "    stream=True\n",
    ")\n",
    "\n",
    "graph_data = None\n",
    "\n",
    "for chunk in response_stream:\n",
    "    print(chunk)\n",
    "    if chunk.choices[0].delta.llm_data is not None:\n",
    "        llm_data = chunk.choices[0].delta.graph_data\n",
    "\n",
    "graph_data"
   ],
   "id": "e712760c15025b79",
   "outputs": [],
   "execution_count": null
  }
 ],
 "metadata": {
  "kernelspec": {
   "display_name": "Python 3",
   "language": "python",
   "name": "python3"
  },
  "language_info": {
   "codemirror_mode": {
    "name": "ipython",
    "version": 2
   },
   "file_extension": ".py",
   "mimetype": "text/x-python",
   "name": "python",
   "nbconvert_exporter": "python",
   "pygments_lexer": "ipython2",
   "version": "2.7.6"
  }
 },
 "nbformat": 4,
 "nbformat_minor": 5
}
