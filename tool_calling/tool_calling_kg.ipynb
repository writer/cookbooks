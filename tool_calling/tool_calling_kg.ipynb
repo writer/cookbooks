{
 "cells": [
  {
   "cell_type": "markdown",
   "id": "e8aa907f876bb781",
   "metadata": {},
   "source": [
    "# Using Knowledge Graph as a tool\n",
    "\n",
    "[Knowledge Graph](https://dev.writer.com/api-guides/knowledge-graph) is Writer's graph-based retrieval-augmented generation (RAG). With the Knowledge Graph tool, you can access a Knowledge Graph in a chat with a Palmyra LLM.\n",
    "\n",
    "This cookbook shows how to use the Knowledge Graph tool to answer specific questions during a chat with an AI assistant.\n",
    "\n",
    "## Prerequisites\n",
    "\n",
    "Before getting started, you'll need:\n",
    "\n",
    "- A [Writer AI Studio](https://app.writer.com/aistudio/signup?utm_campaign=devrel) account\n",
    "- An API key, which you can obtain by following the [API Quickstart](https://dev.writer.com/api-guides/quickstart)\n",
    "- A Knowledge Graph. If you don't already have one, you can create one by following the [Knowledge Graph Cookbook](https://github.com/writer/cookbooks/blob/main/knowledge_graph/knowledge_graph.ipynb) or the [Knowledge Graph tutorial](https://dev.writer.com/api-guides/knowledge-graph).\n",
    "    - You'll need the ID of the Knowledge Graph you want to use as a tool. You can find the ID via the [API](https://dev.writer.com/api-guides/api-reference/kg-api/list-graphs) or via the [Writer AI Studio](https://app.writer.com/aistudio/knowledge-graph) UI. The ID is the last part of the URL for the Knowledge Graph: `https://app.writer.com/aistudio/organization/<organization_id>/knowledge-graph?graphId=<graph_id>`\n",
    "\n",
    "## Setup\n",
    "\n",
    "Install the Writer SDK:"
   ]
  },
  {
   "cell_type": "code",
   "execution_count": null,
   "id": "c05643760cecc348",
   "metadata": {},
   "outputs": [],
   "source": [
    "%pip install -qU writer-sdk"
   ]
  },
  {
   "cell_type": "markdown",
   "id": "f3d9312e9a13f5e5",
   "metadata": {},
   "source": [
    "Next, set the `WRITER_API_KEY` environment variable. We recommend setting it in a `.env` file in the root of your project, but this tutorial will set it in an environment variable if you don't have a `.env` file."
   ]
  },
  {
   "cell_type": "code",
   "execution_count": null,
   "id": "785ea1629cdbb182",
   "metadata": {},
   "outputs": [],
   "source": [
    "import getpass\n",
    "import os\n",
    "from writerai import Writer\n",
    "\n",
    "if not os.getenv(\"WRITER_API_KEY\"):\n",
    "    os.environ[\"WRITER_API_KEY\"] = getpass.getpass(\"Enter your Writer API key: \")\n",
    "\n",
    "client = Writer()  # The Writer client automatically uses the WRITER_API_KEY environment variable to authenticate."
   ]
  },
  {
   "cell_type": "markdown",
   "id": "8608bb9b23a5498e",
   "metadata": {},
   "source": [
    "## Usage"
   ]
  },
  {
   "cell_type": "markdown",
   "id": "f1f2cf5647425c68",
   "metadata": {},
   "source": [
    "The Knowledge Graph tool follows this format:\n",
    "\n",
    "```json\n",
    "{\n",
    "    \"type\": \"graph\",\n",
    "    \"function\": {\n",
    "        \"description\": \"Description of the Knowledge Graph\",\n",
    "        \"graph_ids\": [\"graph_id\"],\n",
    "        \"subqueries\": True\n",
    "    }\n",
    "}\n",
    "```\n",
    "\n",
    "The `description` field should be a short description of what the Knowledge Graph contains.\n",
    "\n",
    "The `subqueries` field indicates whether the response should include the subqueries that were sent to the Knowledge Graph.\n",
    "\n",
    "The following code snippet asks you to input the ID of the Knowledge Graph you want to use as a tool and the description of the Knowledge Graph, and it constructs the `tools` array with this information."
   ]
  },
  {
   "cell_type": "code",
   "execution_count": null,
   "id": "83436249b52de650",
   "metadata": {},
   "outputs": [],
   "source": [
    "graph_id = input(\"Enter the ID of the Knowledge Graph you want to use as tool: \")\n",
    "graph_description = input(\"Enter a description of the Knowledge Graph you want to use as tool: \")\n",
    "\n",
    "tools = [\n",
    "    {\n",
    "        \"type\": \"graph\",\n",
    "        \"function\": {\n",
    "            \"description\": graph_description,\n",
    "            \"graph_ids\": [graph_id],\n",
    "            \"subqueries\": True\n",
    "        }\n",
    "    }\n",
    "]"
   ]
  },
  {
   "cell_type": "markdown",
   "id": "d48153492050c9ed",
   "metadata": {},
   "source": [
    "The next code snippet asks you to input a question to answer from your Knowledge Graph, and then asks that question to the LLM. It passes the Knowledge Graph tool to the LLM."
   ]
  },
  {
   "cell_type": "code",
   "execution_count": null,
   "id": "fbf8fa2dcb1338c6",
   "metadata": {},
   "outputs": [],
   "source": [
    "user_question = input(\"Enter a question to answer from your Knowledge Graph: \")\n",
    "\n",
    "response = client.chat.chat(\n",
    "    model=\"palmyra-x-004\",\n",
    "    messages=[{\"role\": \"user\", \"content\": user_question}],\n",
    "    tools=tools,\n",
    "    tool_choice=\"auto\"\n",
    ")\n",
    "\n",
    "print(f\"Answer: {response.choices[0].message.content}\")"
   ]
  },
  {
   "cell_type": "markdown",
   "id": "a92c9726",
   "metadata": {},
   "source": [
    "If the Knowledge Graph was used in the response, you can see that in the `response.choices[0].message.graph_data` field."
   ]
  },
  {
   "cell_type": "code",
   "execution_count": null,
   "id": "a479ce5105a38dcb",
   "metadata": {},
   "outputs": [],
   "source": [
    "print(f\"Graph data: {response.choices[0].message.graph_data.to_json()}\")"
   ]
  },
  {
   "cell_type": "markdown",
   "id": "940950fb",
   "metadata": {},
   "source": [
    "\n",
    "If there were any subqueries to the Knowledge Graph to answer the question, you can see them in the `response.choices[0].message.graph_data.subqueries` field."
   ]
  },
  {
   "cell_type": "code",
   "execution_count": null,
   "id": "a050a6cf",
   "metadata": {},
   "outputs": [],
   "source": [
    "print(f\"Subqueries: {response.choices[0].message.graph_data.subqueries}\")"
   ]
  },
  {
   "cell_type": "markdown",
   "id": "208c02882eaeab4e",
   "metadata": {},
   "source": [
    "## Streaming\n",
    "\n",
    "You can also stream the chat response, which will stream the response as it is generated. The following code snippet shows how to stream the response, collect the text as it is generated, and print it out."
   ]
  },
  {
   "cell_type": "code",
   "execution_count": null,
   "id": "e712760c15025b79",
   "metadata": {},
   "outputs": [],
   "source": [
    "response_stream = client.chat.chat(\n",
    "    model=\"palmyra-x-004\",\n",
    "    messages=[{\"role\": \"user\", \"content\": user_question}],\n",
    "    tools=tools,\n",
    "    tool_choice=\"auto\",\n",
    "    stream=True\n",
    ")\n",
    "\n",
    "output_text = \"\"\n",
    "\n",
    "for chunk in response_stream:\n",
    "    if chunk.choices[0].delta.content:\n",
    "        print(chunk.choices[0].delta.content, end=\"\", flush=True)\n",
    "        output_text += chunk.choices[0].delta.content\n",
    "\n",
    "print(f\"Final output: {output_text}\")"
   ]
  }
 ],
 "metadata": {
  "kernelspec": {
   "display_name": "Python 3 (ipykernel)",
   "language": "python",
   "name": "python3"
  },
  "language_info": {
   "codemirror_mode": {
    "name": "ipython",
    "version": 3
   },
   "file_extension": ".py",
   "mimetype": "text/x-python",
   "name": "python",
   "nbconvert_exporter": "python",
   "pygments_lexer": "ipython3",
   "version": "3.13.2"
  }
 },
 "nbformat": 4,
 "nbformat_minor": 5
}
