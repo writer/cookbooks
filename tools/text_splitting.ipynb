{
    "cells": [
     {
      "cell_type": "markdown",
      "id": "e8aa907f876bb781",
      "metadata": {},
      "source": [
       "# Context-aware text splitting\n",
       "\n",
       "Context-aware text splitting is a tool that intelligently segments long documents, preserving the semantic meaning and context between chunks. The tool can handle documents up to 4000 words.\n",
       "\n",
       "This cookbook uses context-aware text splitting to demonstrate the semantic chunking of a long paragraph of text.\n",
       "\n",
       "## Prerequisites\n",
       "\n",
       "Before getting started, you'll need:\n",
       "\n",
       "- A [Writer AI Studio](https://app.writer.com/aistudio/signup?utm_campaign=devrel) account\n",
       "- An API key, which you can obtain by following the [API Quickstart](https://dev.writer.com/api-guides/quickstart)\n",
       "\n",
       "## Setup\n",
       "\n",
       "Install the Writer SDK:"
      ]
     },
     {
      "cell_type": "code",
      "execution_count": null,
      "id": "c05643760cecc348",
      "metadata": {},
      "outputs": [],
      "source": [
       "%pip install -qU writer-sdk"
      ]
     },
     {
      "cell_type": "markdown",
      "id": "f3d9312e9a13f5e5",
      "metadata": {},
      "source": [
       "Next, set the `WRITER_API_KEY` environment variable. We recommend setting it in a `.env` file in the root of your project, but this tutorial will set it in an environment variable if you don't have a `.env` file."
      ]
     },
     {
      "cell_type": "code",
      "execution_count": null,
      "id": "785ea1629cdbb182",
      "metadata": {},
      "outputs": [],
      "source": [
       "import getpass\n",
       "import os\n",
       "from writerai import Writer\n",
       "\n",
       "if not os.getenv(\"WRITER_API_KEY\"):\n",
       "    os.environ[\"WRITER_API_KEY\"] = getpass.getpass(\"Enter your Writer API key: \")\n",
       "\n",
       "client = Writer()"
      ]
     },
     {
      "cell_type": "markdown",
      "id": "8608bb9b23a5498e",
      "metadata": {},
      "source": [
       "## Usage\n",
       "\n",
       "The `context_aware_splitting` tool supports the following strategies in the `strategy` parameter:\n",
       "\n",
       "- `llm_split`: Use an LLM for precise semantic splitting.\n",
       "- `fast_split`: Use a heuristic approach for quick splitting.\n",
       "- `hybrid_split`: Combine both approaches.\n",
       "\n",
       "The following example demonstrates how to use the `context_aware_splitting` tool with the `llm_split` strategy on a paragraph of text.The response is an array of text chunks that maintain semantic coherence and preserve the context of the original document.\n"
      ]
     },
     {
      "cell_type": "code",
      "execution_count": null,
      "id": "2223fcc6fa0bfbd3",
      "metadata": {},
      "outputs": [],
      "source": [
       "response = client.tools.context_aware_splitting(\n",
       "    strategy=\"llm_split\", #different strategies of splitting utilization\n",
       "    text=\"In 2025, technology continues to evolve at an unprecedented pace, with several key trends shaping the landscape. Artificial intelligence (AI) and machine learning (ML) are becoming more integrated into everyday applications, from personalized healthcare to advanced predictive analytics in business. Quantum computing is making significant strides, promising to revolutionize fields such as cryptography and materials science. The Internet of Things (IoT) is expanding, connecting more devices and enabling smarter homes, cities, and industries. 5G and emerging 6G networks are enhancing connectivity, enabling faster data transfer and more reliable communication. Sustainability is also a growing focus, with tech companies investing in green technologies and energy-efficient solutions. Additionally, augmented reality (AR) and virtual reality (VR) are becoming more mainstream, transforming entertainment, education, and remote work experiences.\",\n",
       ")\n",
       "\n",
       "print(f\"Number of chunks: {len(response.chunks)}\")\n",
       "for i, chunk in enumerate(response.chunks):\n",
       "    print(f\"Chunk {i+1}: {chunk}\\n\")\n"
      ]
     }
    ],
    "metadata": {
     "kernelspec": {
      "display_name": "Python 3 (ipykernel)",
      "language": "python",
      "name": "python3"
     },
     "language_info": {
      "codemirror_mode": {
       "name": "ipython",
       "version": 3
      },
      "file_extension": ".py",
      "mimetype": "text/x-python",
      "name": "python",
      "nbconvert_exporter": "python",
      "pygments_lexer": "ipython3",
      "version": "3.13.2"
     }
    },
    "nbformat": 4,
    "nbformat_minor": 5
   }
   