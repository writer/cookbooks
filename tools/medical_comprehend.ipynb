{
 "cells": [
  {
   "cell_type": "markdown",
   "id": "e8aa907f876bb781",
   "metadata": {},
   "source": [
    "# Medical comprehend tool\n",
    "\n",
    "The [medical comprehend endpoint](https://dev.writer.com/api-guides/api-reference/tool-api/comprehend-medical) analyzes unstructured medical text to extract entities and label them with standardized medical codes. Each extracted entity comes with a confidence score, making it useful for processing clinical notes, medical records, and other healthcare-related documents.\n",
    "\n",
    "This cookbook shows you how to use the medical comprehend tool to extract entities from a sample medical text.\n",
    "​\n",
    "## Prerequisites\n",
    "\n",
    "Before getting started, you'll need:\n",
    "\n",
    "- A [Writer AI Studio](https://app.writer.com/register) account\n",
    "- An API key, which you can obtain by following the [API Quickstart](https://dev.writer.com/api-guides/quickstart)\n",
    "\n",
    "## Setup\n",
    "\n",
    "Install the Writer SDK:"
   ]
  },
  {
   "cell_type": "code",
   "execution_count": null,
   "id": "c05643760cecc348",
   "metadata": {},
   "outputs": [],
   "source": [
    "%pip install -qU writer-sdk"
   ]
  },
  {
   "cell_type": "markdown",
   "id": "f3d9312e9a13f5e5",
   "metadata": {},
   "source": [
    "Next, set the `WRITER_API_KEY` environment variable. We recommend setting it in a `.env` file in the root of your project, but this tutorial will set it in an environment variable if you don't have a `.env` file."
   ]
  },
  {
   "cell_type": "code",
   "execution_count": null,
   "id": "785ea1629cdbb182",
   "metadata": {},
   "outputs": [],
   "source": [
    "import getpass\n",
    "import os\n",
    "from writerai import Writer\n",
    "\n",
    "if not os.getenv(\"WRITER_API_KEY\"):\n",
    "    os.environ[\"WRITER_API_KEY\"] = getpass.getpass(\"Enter your Writer API key: \")\n",
    "\n",
    "client = Writer()"
   ]
  },
  {
   "cell_type": "markdown",
   "id": "4626800f",
   "metadata": {},
   "source": [
    "## Usage\n",
    "\n",
    "The medical comprehend tool takes the [following parameters](https://dev.writer.com/api-guides/api-reference/tool-api/comprehend-medical#body-response-type):\n",
    "\n",
    "- `content`: The text you want to analyze.\n",
    "- `response_type`: The type of response you want to receive. The default is `SNOMED CT`. The `response_type` parameter can be one of the following:\n",
    "  - `SNOMED CT`: Standardized medical codes\n",
    "  - `Entities`: Medical entities with their categories\n",
    "  - `RxNorm`: Standardized medication codes\n",
    "  - `ICD-10-CM`: Standardized diagnosis codes\n",
    "\n",
    "The following code shows how to use the medical comprehend tool to extract SNOMED CT medical codes from a sample medical note:"
   ]
  },
  {
   "cell_type": "code",
   "execution_count": null,
   "id": "2223fcc6fa0bfbd3",
   "metadata": {},
   "outputs": [],
   "source": [
    "response = client.tools.comprehend.medical(\n",
    "            content=\"the symptoms are soreness, a temperature and cough\",\n",
    "            response_type=\"SNOMED CT\"\n",
    "        )\n",
    "\n",
    "for entity in response.entities:\n",
    "    print(entity.to_json())"
   ]
  }
 ],
 "metadata": {
  "kernelspec": {
   "display_name": "Python 3",
   "language": "python",
   "name": "python3"
  },
  "language_info": {
   "codemirror_mode": {
    "name": "ipython",
    "version": 2
   },
   "file_extension": ".py",
   "mimetype": "text/x-python",
   "name": "python",
   "nbconvert_exporter": "python",
   "pygments_lexer": "ipython2",
   "version": "2.7.6"
  }
 },
 "nbformat": 4,
 "nbformat_minor": 5
}
