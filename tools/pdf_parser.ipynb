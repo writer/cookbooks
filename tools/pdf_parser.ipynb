{
 "cells": [
  {
   "cell_type": "markdown",
   "id": "e8aa907f876bb781",
   "metadata": {},
   "source": [
    "# Parse PDFs\n",
    "\n",
    "The [Parse PDF](https://dev.writer.com/api-guides/api-reference/tools-api/parse-pdf) tool parses a PDF file and returns the text or markdown content of the file.\n",
    "\n",
    "## Prerequisites\n",
    "\n",
    "Before getting started, you'll need:\n",
    "\n",
    "- A [Writer AI Studio](https://app.writer.com/aistudio/signup?utm_campaign=devrel) account\n",
    "- An API key, which you can obtain by following the [API Quickstart](https://dev.writer.com/api-guides/quickstart)\n",
    "\n",
    "## Setup\n",
    "\n",
    "Install the Writer SDK:"
   ]
  },
  {
   "cell_type": "code",
   "execution_count": null,
   "id": "c05643760cecc348",
   "metadata": {},
   "outputs": [],
   "source": [
    "%pip install -qU writer-sdk"
   ]
  },
  {
   "cell_type": "markdown",
   "id": "f3d9312e9a13f5e5",
   "metadata": {},
   "source": [
    "Next, set the `WRITER_API_KEY` environment variable. We recommend setting it in a `.env` file in the root of your project, but this tutorial will set it in an environment variable if you don't have a `.env` file."
   ]
  },
  {
   "cell_type": "code",
   "execution_count": null,
   "id": "785ea1629cdbb182",
   "metadata": {},
   "outputs": [],
   "source": [
    "import getpass\n",
    "import os\n",
    "from writerai import Writer\n",
    "\n",
    "if not os.getenv(\"WRITER_API_KEY\"):\n",
    "    os.environ[\"WRITER_API_KEY\"] = getpass.getpass(\"Enter your Writer API key: \")\n",
    "\n",
    "\n",
    "client = Writer()"
   ]
  },
  {
   "cell_type": "markdown",
   "id": "8608bb9b23a5498e",
   "metadata": {},
   "source": [
    "## Usage\n",
    "\n",
    "To parse a PDF file, you'll first need to [upload a PDF file to Writer AI Studio](https://dev.writer.com/api-guides/api-reference/file-api/upload-files). You use the File ID of the uploaded file when you call the `parse_pdf` method.\n",
    "\n",
    "### List your uploaded files\n",
    "\n",
    "To find the File ID of a PDF you have already uploaded, run the following code to list your uploaded files and find PDFs:"
   ]
  },
  {
   "cell_type": "code",
   "execution_count": null,
   "id": "84825a82",
   "metadata": {},
   "outputs": [],
   "source": [
    "files = client.files.list()\n",
    "\n",
    "for file in files:\n",
    "    if file.name.endswith(\".pdf\"):\n",
    "        print(f\"{file.id}: {file.name}\")"
   ]
  },
  {
   "cell_type": "markdown",
   "id": "f808b763",
   "metadata": {},
   "source": [
    "### Upload a PDF\n",
    "\n",
    "If you don't have a PDF file to parse, you can run the following code to upload the sample PDF in this directory and get the File ID:"
   ]
  },
  {
   "cell_type": "code",
   "execution_count": null,
   "id": "0cddcc65",
   "metadata": {},
   "outputs": [],
   "source": [
    "from pathlib import Path\n",
    "\n",
    "response = client.files.upload(\n",
    "    Path(\"./becoming_self_instruct.pdf\"),\n",
    "    content_type=\"application/pdf\",\n",
    "    content_disposition=\"attachment; filename=becoming_self_instruct.pdf\",\n",
    ")\n",
    "\n",
    "file_id = response.id\n",
    "print(file_id)"
   ]
  },
  {
   "cell_type": "markdown",
   "id": "8768db6f",
   "metadata": {},
   "source": [
    "### Parse a PDF\n",
    "\n",
    "Once you have a File ID, you can parse it with the `parse_pdf` method.\n",
    "\n",
    "`parse_pdf` takes a `file_id` and a `format` parameter. The `format` parameter can be `text` or `markdown`.\n",
    "\n",
    "The following code parses the sample PDF and returns it in text format:"
   ]
  },
  {
   "cell_type": "code",
   "execution_count": null,
   "id": "2223fcc6fa0bfbd3",
   "metadata": {},
   "outputs": [],
   "source": [
    "if not file_id:\n",
    "    file_id = input(\"Enter the File ID of the PDF file to parse: \")\n",
    "\n",
    "response = client.tools.parse_pdf(\n",
    "    file_id=file_id,\n",
    "    format=\"text\", #different parsing formats utilization\n",
    ")\n",
    "\n",
    "print(f\"Parsed PDF: {response.content}\")"
   ]
  }
 ],
 "metadata": {
  "kernelspec": {
   "display_name": "Python 3",
   "language": "python",
   "name": "python3"
  },
  "language_info": {
   "codemirror_mode": {
    "name": "ipython",
    "version": 2
   },
   "file_extension": ".py",
   "mimetype": "text/x-python",
   "name": "python",
   "nbconvert_exporter": "python",
   "pygments_lexer": "ipython2",
   "version": "2.7.6"
  }
 },
 "nbformat": 4,
 "nbformat_minor": 5
}
