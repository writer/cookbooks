{
 "cells": [
  {
   "metadata": {},
   "cell_type": "markdown",
   "source": "## Setup",
   "id": "e8aa907f876bb781"
  },
  {
   "metadata": {},
   "cell_type": "code",
   "source": "%pip install -qU writer-sdk",
   "id": "c05643760cecc348",
   "outputs": [],
   "execution_count": null
  },
  {
   "metadata": {},
   "cell_type": "markdown",
   "source": [
    "### Initialization\n",
    "\n",
    "Sign up for [Writer AI Studio](https://app.writer.com/aistudio/signup?utm_campaign=devrel) and follow this [Quickstart](https://dev.writer.com/api-guides/quickstart) to obtain an API key. Then, set the WRITER_API_KEY environment variable:"
   ],
   "id": "f3d9312e9a13f5e5"
  },
  {
   "metadata": {},
   "cell_type": "code",
   "source": [
    "import getpass\n",
    "import os\n",
    "from writerai import Writer\n",
    "\n",
    "if not os.getenv(\"WRITER_API_KEY\"):\n",
    "    os.environ[\"WRITER_API_KEY\"] = getpass.getpass(\"Enter your Writer API key: \")\n",
    "\n",
    "\n",
    "\n",
    "client = Writer()"
   ],
   "id": "785ea1629cdbb182",
   "outputs": [],
   "execution_count": null
  },
  {
   "metadata": {},
   "cell_type": "markdown",
   "source": "### Usage",
   "id": "8608bb9b23a5498e"
  },
  {
   "metadata": {},
   "cell_type": "code",
   "source": [
    "if not os.getenv(\"FILE_ID\"):\n",
    "    os.environ[\"FILE_ID\"] = getpass.getpass(\"Enter ID of PDF file to parse: \")\n",
    "\n",
    "response = client.tools.parse_pdf(\n",
    "    file_id=os.getenv(\"FILE_ID\"),\n",
    "    format=\"text\", #different parsing formats utilization\n",
    ")\n",
    "\n",
    "response.content"
   ],
   "id": "2223fcc6fa0bfbd3",
   "outputs": [],
   "execution_count": null
  }
 ],
 "metadata": {
  "kernelspec": {
   "display_name": "Python 3",
   "language": "python",
   "name": "python3"
  },
  "language_info": {
   "codemirror_mode": {
    "name": "ipython",
    "version": 2
   },
   "file_extension": ".py",
   "mimetype": "text/x-python",
   "name": "python",
   "nbconvert_exporter": "python",
   "pygments_lexer": "ipython2",
   "version": "2.7.6"
  }
 },
 "nbformat": 4,
 "nbformat_minor": 5
}
