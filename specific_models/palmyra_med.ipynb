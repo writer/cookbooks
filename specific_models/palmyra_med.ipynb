{
 "cells": [
  {
   "metadata": {},
   "cell_type": "markdown",
   "source": [
    "## Overview\n",
    "\n",
    "Writer’s specialized healthcare language model, Palmyra Med, is designed to support clinical and administrative workflows with high accuracy in medical terminology, coding, and analysis. With advanced capabilities for medical coding standards like RxNorm, ICD-10-CM, and SNOMED CT, it’s ideal for applications in medical analysis, treatment planning, clinical trials, and more.\n",
    "\n",
    "### Details\n",
    "* Text input & output\n",
    "* 128k context length\n",
    "\n",
    "### Price\n",
    "* Input: \\$5.00 / 1M tokens\n",
    "* Output: \\$12.00 / 1M tokens\n",
    "\n",
    "### Availability\n",
    "* [No-code](https://dev.writer.com/no-code/introduction)\n",
    "* [Writer Framework](https://dev.writer.com/framework/introduction)\n",
    "* [API](https://dev.writer.com/api-guides/introduction)"
   ],
   "id": "b6f36d77c74471de"
  },
  {
   "metadata": {},
   "cell_type": "markdown",
   "source": "## Use cases & capabilities",
   "id": "4a83f6c66f4ab2d1"
  },
  {
   "metadata": {},
   "cell_type": "markdown",
   "source": [
    "### Clinical decision support\n",
    "With healthcare-specific knowledge, Palmyra Med can assist in diagnostics and treatment planning, helping healthcare providers make informed, data-backed decisions.\n",
    "\n",
    "> You cat use Palmyra med capabilities via [Pyton SDK](https://dev.writer.com/api-guides/sdks). To do it simpy install Writer SDK via pip:"
   ],
   "id": "5f1089952a284da5"
  },
  {
   "metadata": {},
   "cell_type": "code",
   "outputs": [],
   "execution_count": null,
   "source": "%pip install -qU writer-sdk",
   "id": "3b49e4a7df119967"
  },
  {
   "metadata": {},
   "cell_type": "markdown",
   "source": "> Then you have to head to our [AI Studio](https://writer.com/product/ai-studio/), generate API key, set it as ENV `WRITER_API_KEY` variable, and open to you Palmyra ecosystem via chat handler or text completions as following:",
   "id": "a18dfa7b5a299892"
  },
  {
   "metadata": {},
   "cell_type": "code",
   "outputs": [],
   "execution_count": null,
   "source": [
    "import getpass\n",
    "import os\n",
    "from writerai import Writer\n",
    "\n",
    "if not os.getenv(\"WRITER_API_KEY\"):\n",
    "    os.environ[\"WRITER_API_KEY\"] = getpass.getpass(\"Enter your Writer API key: \")\n",
    "\n",
    "client = Writer()\n",
    "\n",
    "client.completions.create(model=\"palmyra-med\", prompt=\"\")"
   ],
   "id": "e1b25d56d1dc1f83"
  },
  {
   "metadata": {},
   "cell_type": "markdown",
   "source": [
    "### Document summarization and reporting\n",
    "Optimized for summarizing lengthy medical records and generating concise reports, Palmyra Med enhances efficiency in patient documentation and case review."
   ],
   "id": "96987be3217f1754"
  },
  {
   "metadata": {},
   "cell_type": "code",
   "outputs": [],
   "execution_count": null,
   "source": "client.completions.create(model=\"palmyra-med\", prompt=\"\")",
   "id": "de25e9c8f7e96ff8"
  },
  {
   "metadata": {},
   "cell_type": "markdown",
   "source": "## Best practices in prompting",
   "id": "37dcfe9be66cf765"
  },
  {
   "metadata": {},
   "cell_type": "markdown",
   "source": "",
   "id": "14c296509a5fc1ca"
  }
 ],
 "metadata": {
  "kernelspec": {
   "display_name": "Python 3",
   "language": "python",
   "name": "python3"
  },
  "language_info": {
   "codemirror_mode": {
    "name": "ipython",
    "version": 2
   },
   "file_extension": ".py",
   "mimetype": "text/x-python",
   "name": "python",
   "nbconvert_exporter": "python",
   "pygments_lexer": "ipython2",
   "version": "2.7.6"
  }
 },
 "nbformat": 4,
 "nbformat_minor": 5
}
