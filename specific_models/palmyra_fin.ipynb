{
 "cells": [
  {
   "metadata": {},
   "cell_type": "markdown",
   "source": [
    "## Overview\n",
    "\n",
    "Palmyra Fin is Writer’s specialized language model for the finance industry, designed to support critical financial workflows with precision in terminology, document analysis, and complex investment analysis. Equipped with advanced capabilities for market analysis, risk assessment, and regulatory reporting, Palmyra Fin empowers financial organizations to streamline processes and make data-driven decisions confidently.\n",
    "\n",
    "### Details\n",
    "* Text input & output\n",
    "* 128k context length\n",
    "\n",
    "### Price\n",
    "* Input: \\$5.00 / 1M tokens\n",
    "* Output: \\$12.00 / 1M tokens\n",
    "\n",
    "### Availability\n",
    "* [No-code](https://dev.writer.com/no-code/introduction)\n",
    "* [Writer Framework](https://dev.writer.com/framework/introduction)\n",
    "* [API](https://dev.writer.com/api-guides/introduction)"
   ],
   "id": "b6f36d77c74471de"
  },
  {
   "metadata": {},
   "cell_type": "markdown",
   "source": "## Use cases & capabilities",
   "id": "4a83f6c66f4ab2d1"
  },
  {
   "metadata": {},
   "cell_type": "markdown",
   "source": "> You cat use Palmyra fin capabilities via [Pyton SDK](https://dev.writer.com/api-guides/sdks). To do it simpy install Writer SDK via pip:",
   "id": "5f1089952a284da5"
  },
  {
   "metadata": {},
   "cell_type": "code",
   "source": "%pip install -qU writer-sdk",
   "id": "3b49e4a7df119967",
   "outputs": [],
   "execution_count": null
  },
  {
   "metadata": {},
   "cell_type": "markdown",
   "source": [
    "> Then you have to head to our [AI Studio](https://writer.com/product/ai-studio/), generate API key, set it as ENV `WRITER_API_KEY` variable, and open to you Palmyra ecosystem via chat handler or text completions as following:\n",
    "\n",
    "### Market and financial analysis\n",
    "Palmyra Fin interprets and analyzes data trends, enabling financial analysts to generate insights and forecasts for strategic decision-making."
   ],
   "id": "7a8706e473bcfe8e"
  },
  {
   "metadata": {},
   "cell_type": "code",
   "source": [
    "import getpass\n",
    "import os\n",
    "from writerai import Writer\n",
    "\n",
    "if not os.getenv(\"WRITER_API_KEY\"):\n",
    "    os.environ[\"WRITER_API_KEY\"] = getpass.getpass(\"Enter your Writer API key: \")\n",
    "\n",
    "client = Writer()\n",
    "\n",
    "prompt = \"\"\"\n",
    "Here is a stock data about symbol in csv format:\n",
    "<csv>\n",
    "Date,Open,High,Low,Close,Adjusted Close,Volume\n",
    "2023-01-03,100.00,102.50,98.75,101.25,101.25,5000000\n",
    "2023-01-04,101.50,103.00,100.25,102.00,102.00,4500000\n",
    "2023-01-05,102.25,104.50,101.75,103.25,103.25,5500000\n",
    "2023-01-06,103.00,104.75,102.50,104.00,104.00,6000000\n",
    "2023-01-09,104.25,106.00,103.50,105.25,105.25,5800000\n",
    "2023-01-10,105.00,107.50,104.25,106.75,106.75,7000000\n",
    "2023-01-11,106.50,108.00,105.00,107.25,107.25,6500000\n",
    "2023-01-12,107.00,109.25,106.50,108.75,108.75,8000000\n",
    "2023-01-13,108.50,111.00,107.25,110.00,110.00,7500000\n",
    "2023-01-16,110.25,112.50,109.00,111.25,111.25,9000000\n",
    "2023-01-17,111.50,113.00,110.50,112.50,112.50,8500000\n",
    "2023-01-18,112.00,114.25,111.00,113.75,113.75,10000000\n",
    "2023-01-19,113.50,115.00,112.25,114.00,114.00,9500000\n",
    "2023-01-20,114.25,116.50,113.00,115.25,115.25,8500000\n",
    "2023-01-23,115.00,117.00,114.25,116.25,116.25,7500000\n",
    "2023-01-24,116.50,118.75,115.50,118.00,118.00,6500000\n",
    "2023-01-25,117.75,120.00,116.25,119.50,119.50,5500000\n",
    "2023-01-26,119.00,121.25,117.75,120.75,120.75,5000000\n",
    "2023-01-27,120.50,122.50,119.00,122.00,122.00,4500000\n",
    "2023-01-30,122.25,124.50,120.50,123.75,123.75,4000000\n",
    "2023-01-31,123.50,125.00,122.25,124.50,124.50,3500000\n",
    "</csv>\n",
    "Provide trend analysis of it, make some predictions of future prices for this symbol according to provided data. Generate investment plan.\n",
    "\"\"\"\n",
    "\n",
    "client.completions.create(model=\"palmyra-fin\", prompt=prompt)"
   ],
   "id": "f42e244a9f87a573",
   "outputs": [],
   "execution_count": null
  },
  {
   "metadata": {},
   "cell_type": "markdown",
   "source": [
    "### Risk assessment\n",
    "With a deep understanding of financial language and terminology, Palmyra Fin helps assess risk factors, generating precise reports that aid in risk management compliance."
   ],
   "id": "96987be3217f1754"
  },
  {
   "metadata": {},
   "cell_type": "code",
   "source": [
    "prompt=\"\"\"\n",
    "'Success Financial Services' needs to assess the credit risk of a newly acquired portfolio of corporate loans. The portfolio includes loans to companies in different industries such metallurgy, machine-tool construction, instrumentation and light industry. Additionally, the bank must ensure compliance with Basel III and other relevant regulations. Can you generate a comprehensive risk assessment report that includes credit risk analysis for each loan, a summary of compliance with regulatory requirements, and recommendations for mitigating identified risks?\n",
    "\"\"\"\n",
    "\n",
    "client.completions.create(model=\"palmyra-fin\", prompt=prompt)"
   ],
   "id": "de25e9c8f7e96ff8",
   "outputs": [],
   "execution_count": null
  },
  {
   "metadata": {},
   "cell_type": "markdown",
   "source": "## Best practices in prompting",
   "id": "37dcfe9be66cf765"
  },
  {
   "metadata": {},
   "cell_type": "markdown",
   "source": "",
   "id": "8db3700dff7b35e9"
  }
 ],
 "metadata": {
  "kernelspec": {
   "display_name": "Python 3",
   "language": "python",
   "name": "python3"
  },
  "language_info": {
   "codemirror_mode": {
    "name": "ipython",
    "version": 2
   },
   "file_extension": ".py",
   "mimetype": "text/x-python",
   "name": "python",
   "nbconvert_exporter": "python",
   "pygments_lexer": "ipython2",
   "version": "2.7.6"
  }
 },
 "nbformat": 4,
 "nbformat_minor": 5
}
