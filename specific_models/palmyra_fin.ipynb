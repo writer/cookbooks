{
 "cells": [
  {
   "metadata": {},
   "cell_type": "markdown",
   "source": [
    "## Overview\n",
    "\n",
    "Palmyra Fin is Writer’s specialized language model for the finance industry, designed to support critical financial workflows with precision in terminology, document analysis, and complex investment analysis. Equipped with advanced capabilities for market analysis, risk assessment, and regulatory reporting, Palmyra Fin empowers financial organizations to streamline processes and make data-driven decisions confidently.\n",
    "\n",
    "### Details\n",
    "* Text input & output\n",
    "* 128k context length\n",
    "\n",
    "### Price\n",
    "* Input: \\$5.00 / 1M tokens\n",
    "* Output: \\$12.00 / 1M tokens\n",
    "\n",
    "### Availability\n",
    "* [No-code](https://dev.writer.com/no-code/introduction)\n",
    "* [Writer Framework](https://dev.writer.com/framework/introduction)\n",
    "* [API](https://dev.writer.com/api-guides/introduction)"
   ],
   "id": "b6f36d77c74471de"
  },
  {
   "metadata": {},
   "cell_type": "markdown",
   "source": "## Use cases & capabilities",
   "id": "4a83f6c66f4ab2d1"
  },
  {
   "metadata": {},
   "cell_type": "markdown",
   "source": [
    "### Market and financial analysis\n",
    "Palmyra Fin interprets and analyzes data trends, enabling financial analysts to generate insights and forecasts for strategic decision-making.\n",
    "\n",
    "> You cat use Palmyra fin capabilities via [Pyton SDK](https://dev.writer.com/api-guides/sdks). To do it simpy install Writer SDK via pip:"
   ],
   "id": "5f1089952a284da5"
  },
  {
   "metadata": {},
   "cell_type": "code",
   "source": "%pip install -qU writer-sdk",
   "id": "3b49e4a7df119967",
   "outputs": [],
   "execution_count": null
  },
  {
   "metadata": {},
   "cell_type": "markdown",
   "source": "> Then you have to head to our [AI Studio](https://writer.com/product/ai-studio/), generate API key, set it as ENV `WRITER_API_KEY` variable, and open to you Palmyra ecosystem via chat handler or text completions as following:",
   "id": "7a8706e473bcfe8e"
  },
  {
   "metadata": {},
   "cell_type": "code",
   "source": [
    "import getpass\n",
    "import os\n",
    "from writerai import Writer\n",
    "\n",
    "if not os.getenv(\"WRITER_API_KEY\"):\n",
    "    os.environ[\"WRITER_API_KEY\"] = getpass.getpass(\"Enter your Writer API key: \")\n",
    "\n",
    "client = Writer()\n",
    "\n",
    "client.completions.create(model=\"palmyra-fin\", prompt=\"\")"
   ],
   "id": "f42e244a9f87a573",
   "outputs": [],
   "execution_count": null
  },
  {
   "metadata": {},
   "cell_type": "markdown",
   "source": [
    "### Risk assessment\n",
    "With a deep understanding of financial language and terminology, Palmyra Fin helps assess risk factors, generating precise reports that aid in risk management compliance."
   ],
   "id": "96987be3217f1754"
  },
  {
   "metadata": {},
   "cell_type": "code",
   "source": "client.completions.create(model=\"palmyra-fin\", prompt=\"\")",
   "id": "de25e9c8f7e96ff8",
   "outputs": [],
   "execution_count": null
  },
  {
   "metadata": {},
   "cell_type": "markdown",
   "source": "## Best practices in prompting",
   "id": "37dcfe9be66cf765"
  },
  {
   "metadata": {},
   "cell_type": "markdown",
   "source": "",
   "id": "8db3700dff7b35e9"
  }
 ],
 "metadata": {
  "kernelspec": {
   "display_name": "Python 3",
   "language": "python",
   "name": "python3"
  },
  "language_info": {
   "codemirror_mode": {
    "name": "ipython",
    "version": 2
   },
   "file_extension": ".py",
   "mimetype": "text/x-python",
   "name": "python",
   "nbconvert_exporter": "python",
   "pygments_lexer": "ipython2",
   "version": "2.7.6"
  }
 },
 "nbformat": 4,
 "nbformat_minor": 5
}
